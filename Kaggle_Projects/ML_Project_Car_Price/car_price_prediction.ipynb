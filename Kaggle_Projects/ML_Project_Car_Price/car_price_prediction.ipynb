{
 "cells": [
  {
   "cell_type": "markdown",
   "metadata": {},
   "source": [
    "<div style=\"background: linear-gradient(90deg, black, green, blue); padding: 20px; border-radius: 12px; text-align: center; color: white; margin-top: 20px;\">\n",
    "  <h1 style=\"font-family: 'Arial', sans-serif; font-size: 36px; font-weight: bold; letter-spacing: 1.2px; text-shadow: 2px 2px 5px rgba(0, 0, 0, 0.3); color: yellow;\">\n",
    "    🚗 Car Price Prediction\n",
    "  </h1>\n",
    "</div>\n",
    "\n"
   ]
  },
  {
   "cell_type": "markdown",
   "metadata": {},
   "source": [
    "<div style=\"text-align: center;\">\n",
    "    <img src=\"banner.jpg\" alt=\"Car Banner\" style=\"width: 100%; max-width: 800px; border-radius: 10px;\"/>\n",
    "</div>"
   ]
  },
  {
   "cell_type": "markdown",
   "metadata": {},
   "source": [
    "<style>\n",
    "  /* General Reset */\n",
    "  * {\n",
    "    margin: 0;\n",
    "    padding: 0;\n",
    "    box-sizing: border-box;\n",
    "  }\n",
    "\n",
    "  /* Author Info Section */\n",
    "  .author-info {\n",
    "    max-width: 600px;\n",
    "    margin: 30px auto;\n",
    "    padding: 20px;\n",
    "    border-radius: 15px;\n",
    "    border: 3px solid #6c757d;\n",
    "    font-family: 'Roboto', Arial, sans-serif;\n",
    "    text-align: center;\n",
    "    background: linear-gradient(145deg, #ffffff, #e6e6e6);\n",
    "    box-shadow: 5px 5px 15px rgba(0, 0, 0, 0.2), -5px -5px 15px rgba(255, 255, 255, 0.8);\n",
    "    color: #333;\n",
    "  }\n",
    "\n",
    "  .author-info p {\n",
    "    font-size: 18px;\n",
    "    line-height: 1.5;\n",
    "    font-weight: 600;\n",
    "  }\n",
    "\n",
    "  .author-info a {\n",
    "    color: #007bff;\n",
    "    text-decoration: none;\n",
    "    font-weight: bold;\n",
    "    transition: color 0.3s ease;\n",
    "  }\n",
    "\n",
    "  .author-info a:hover {\n",
    "    color: #0056b3;\n",
    "  }\n",
    "\n",
    "  /* Contact Info Section */\n",
    "  .contact-info {\n",
    "    max-width: 600px;\n",
    "    margin: 20px auto;\n",
    "    padding: 20px;\n",
    "    border-radius: 15px;\n",
    "    text-align: center;\n",
    "    background: #f8f9fa;\n",
    "    border: 2px solid #adb5bd;\n",
    "    box-shadow: 5px 5px 15px rgba(0, 0, 0, 0.1);\n",
    "  }\n",
    "\n",
    "  /* Table for Social Links */\n",
    "  .contact-info table {\n",
    "    margin: 0 auto;\n",
    "    border-spacing: 15px;\n",
    "  }\n",
    "\n",
    "  .contact-info img {\n",
    "    height: 50px;\n",
    "    border-radius: 10px;\n",
    "    transition: transform 0.3s ease, box-shadow 0.3s ease;\n",
    "  }\n",
    "\n",
    "  .contact-info img:hover {\n",
    "    transform: scale(1.15);\n",
    "    box-shadow: 0 4px 15px rgba(0, 0, 0, 0.2);\n",
    "  }\n",
    "\n",
    "  /* Section Titles */\n",
    "  .section-title {\n",
    "    text-align: center;\n",
    "    font-size: 22px;\n",
    "    font-weight: bold;\n",
    "    color: #495057;\n",
    "    margin-bottom: 15px;\n",
    "  }\n",
    "</style>\n",
    "\n",
    "<div class=\"contact-info\">\n",
    "  <h3 class=\"section-title\">\n",
    "    <strong>✍️ Author Name:</strong>\n",
    "    <a href=\"https://www.linkedin.com/in/yousuf-shah-7ba9492b4/\" target=\"_blank\">Yousuf Shah</a>\n",
    "  </h3>\n",
    "  <table>\n",
    "    <tr>\n",
    "      <td>\n",
    "        <a href=\"https://www.linkedin.com/in/yousuf-shah-7ba9492b4/\" target=\"_blank\">\n",
    "          <img src=\"https://img.shields.io/badge/LinkedIn-Profile-blue?style=for-the-badge&logo=linkedin\" alt=\"LinkedIn\" />\n",
    "        </a>\n",
    "      </td>\n",
    "      <td>\n",
    "        <a href=\"https://yousfshah.github.io/Portfolio_Website/\" target=\"_blank\">\n",
    "          <img src=\"https://img.shields.io/badge/Portfolio_Website-Website-blue?style=for-the-badge&logo=link\" alt=\"Portfolio Website\" />\n",
    "        </a>\n",
    "      </td>\n",
    "    </tr>\n",
    "    <tr>\n",
    "      <td>\n",
    "        <a href=\"https://github.com/Yousfshah\" target=\"_blank\">\n",
    "          <img src=\"https://img.shields.io/badge/GitHub-Profile-green?style=for-the-badge&logo=github\" alt=\"GitHub\" />\n",
    "        </a>\n",
    "      </td>\n",
    "      <td>\n",
    "        <a href=\"https://www.kaggle.com/yousufshah\" target=\"_blank\">\n",
    "          <img src=\"https://img.shields.io/badge/Kaggle-Profile-orange?style=for-the-badge&logo=kaggle\" alt=\"Kaggle\" />\n",
    "        </a>\n",
    "      </td>\n",
    "    </tr>\n",
    "  </table>\n",
    "</div>\n"
   ]
  },
  {
   "cell_type": "markdown",
   "metadata": {},
   "source": [
    "<div style=\"font-family: Arial, sans-serif; border: 1px solid #ddd; padding: 20px; border-radius: 8px;\">\n",
    "  <h2 style=\"color: #FF5722;\">🎯 Subject Overview</h2>\n",
    "  <p>Harnessing the power of data science to predict car prices accurately, helping buyers and sellers make informed decisions.</p>\n",
    "</div>"
   ]
  },
  {
   "cell_type": "markdown",
   "metadata": {},
   "source": [
    "<!-- 🚘 About Dataset Section -->\n",
    "<div style=\"background: linear-gradient(to right, black, #4A00E0, black); padding: 20px; border-radius: 12px; color: white; font-family: Arial, sans-serif; margin-bottom: 20px;\">\n",
    "  <h2 style=\"text-align: center; font-size: 28px; font-weight: bold;\">🚘 About Dataset</h2>\n",
    "  <p style=\"font-size: 16px; line-height: 1.8;\">\n",
    "    The price of a car depends on a lot of factors like the goodwill of the brand of the car, features of the car, horsepower, the mileage it gives, and many more. 🚗 Car price prediction is one of the major research areas in machine learning. So if you want to learn how to train a car price prediction model, this project is for you.\n",
    "  </p>\n",
    "</div>\n",
    "\n",
    "<!-- 📥 Download Dataset Section -->\n",
    "<div style=\"background: linear-gradient(to right, green, black, blue); padding: 15px; border-radius: 10px; color: white; font-family: Arial, sans-serif; text-align: center; margin-bottom: 20px;\">\n",
    "  <h3 style=\"font-size: 24px; font-weight: bold;\">📥 Download Dataset</h3>\n",
    "  <a href=\"https://www.kaggle.com/datasets/vijayaadithyanvg/car-price-predictionused-cars\" \n",
    "     style=\"color: #ffcc00; text-decoration: none; font-size: 18px; font-weight: bold;\" target=\"_blank\">\n",
    "    👉 <b>Download Here</b>\n",
    "  </a>\n",
    "</div>\n",
    "\n",
    "<!-- 📊 Dataset Overview Section -->\n",
    "<div style=\"font-family: Arial, sans-serif; line-height: 1.6; padding: 20px; border: 1px solid #ddd; border-radius: 12px; color:black; background-color: white;\">\n",
    "  <h3 style=\"text-align: center; color: #4A00E0; font-size: 24px; font-weight: bold; margin-bottom: 15px;\">📊 Dataset Overview</h3>\n",
    "  <ul style=\"list-style: none; padding-left: 0;\">\n",
    "    <li style=\"margin-bottom: 10px;\"><span style=\"font-weight: bold; color: #8E2DE2;\">🚗 Car_Name:</span> Categorical variable representing the model of the vehicle, including both cars and motorcycles.</li>\n",
    "    <li style=\"margin-bottom: 10px;\"><span style=\"font-weight: bold; color: #8E2DE2;\">📅 Year:</span> Numerical (integer) indicating the manufacturing year, ranging from 2003 to 2018.</li>\n",
    "    <li style=\"margin-bottom: 10px;\"><span style=\"font-weight: bold; color: #8E2DE2;\">💰 Selling_Price:</span> Numerical (float) representing the price at which the vehicle is being sold.</li>\n",
    "    <li style=\"margin-bottom: 10px;\"><span style=\"font-weight: bold; color: #8E2DE2;\">📈 Present_Price:</span> Numerical (float) indicating the current market value of the vehicle.</li>\n",
    "    <li style=\"margin-bottom: 10px;\"><span style=\"font-weight: bold; color: #8E2DE2;\">🛣️ Driven_kms:</span> Numerical (integer) showing the kilometers driven.</li>\n",
    "    <li style=\"margin-bottom: 10px;\"><span style=\"font-weight: bold; color: #8E2DE2;\">⛽ Fuel_Type:</span> Categorical variable indicating the type of fuel used (e.g., Petrol, Diesel, CNG).</li>\n",
    "    <li style=\"margin-bottom: 10px;\"><span style=\"font-weight: bold; color: #8E2DE2;\">🛒 Selling_type:</span> Categorical variable denoting whether the vehicle is sold by a Dealer or an Individual.</li>\n",
    "    <li style=\"margin-bottom: 10px;\"><span style=\"font-weight: bold; color: #8E2DE2;\">⚙️ Transmission:</span> Categorical variable indicating the type of transmission:\n",
    "      <ul style=\"margin-left: 20px; list-style: disc;\">\n",
    "        <li>🧑‍🔧 <b>Manual:</b> The driver manually changes gears using a gear stick and clutch pedal.</li>\n",
    "        <li>🤖 <b>Automatic:</b> The car automatically changes gears without driver intervention.</li>\n",
    "      </ul>\n",
    "    </li>\n",
    "    <li style=\"margin-bottom: 10px;\"><span style=\"font-weight: bold; color: #8E2DE2;\">👤 Owner:</span> Numerical (integer) indicating the number of previous owners the vehicle has had.</li>\n",
    "  </ul>\n",
    "</div>\n"
   ]
  },
  {
   "cell_type": "markdown",
   "metadata": {},
   "source": [
    "<div id=\"explore-data\" style=\"background: linear-gradient(45deg, #ff6a00, #73145b); padding: 20px 30px; border-radius: 12px; text-align: center; margin-top: 20px;\">\n",
    "  <h1 style=\"color: #fff; font-family: 'Tahoma', sans-serif; font-size: 32px; font-weight: bold; letter-spacing: 2px; text-shadow: 2px 2px 4px rgba(0, 0, 0, 0.3);\">\n",
    "    📚 <span style=\"border-bottom: 4px solid #fff; padding-bottom: 5px;\">Table of Contents</span>\n",
    "  </h1>\n",
    "</div>"
   ]
  },
  {
   "cell_type": "markdown",
   "metadata": {},
   "source": [
    "- <a href=\"#import-libraries\">🛠️ Import Libraries</a>\n",
    "- <a href=\"#explore-data\">📊 Explore Data</a>\n",
    "- <a href=\"#data-cleaning\">🧹 Data Cleaning</a>\n",
    "  - [❓ Missing Values](#missing-values)\n",
    "  - [📝 Duplicate Rows](#duplicate-rows)\n",
    "  - [🚨 Outliers](#outliers)\n",
    "  - [🔧 Remove Inconsistency](#remove-inconsistency)\n",
    "- <a href=\"#feature-engineering\">🧬 Feature Engineering</a>\n",
    "  - [🌟 Creating New Features](#create-new-features)\n",
    "  - [🔄 Type Conversion](#type-conversion)\n",
    "- <a href=\"#my-objective\">🎯 My Objective</a>\n",
    "- <a href=\"#data-preprocessing\">⚙️ Data Preprocessing</a>\n",
    "  - [📈 Distribution of Target Variable](#distribution-of-target-variable)\n",
    "  - [🔗 Correlation](#correlation)\n",
    "- <a href=\"#build-ml-model\">🤖 Building ML Model</a>\n",
    "- <a href=\"#dump-model\">💾 Save Best Model</a>\n"
   ]
  },
  {
   "cell_type": "markdown",
   "metadata": {},
   "source": [
    "<div id=\"import-libraries\" style=\"background: linear-gradient(135deg, #6a11cb, #2575fc); padding: 20px 30px; border-radius: 12px; text-align: center; margin-top: 20px;\">\n",
    "  <h2 style=\"color: white; font-family: 'Verdana', sans-serif; font-size: 32px; font-weight: bold; text-shadow: 2px 2px 5px rgba(0, 0, 0, 0.3);\">\n",
    "    🛠️ <span style=\"border-bottom: 4px solid #ffcc00; padding-bottom: 5px;\">Import Libraries</span>\n",
    "  </h2>\n",
    "</div>\n",
    "\n"
   ]
  },
  {
   "cell_type": "code",
   "execution_count": 25,
   "metadata": {},
   "outputs": [
    {
     "name": "stdout",
     "output_type": "stream",
     "text": [
      "Libraries imported successfully!\n"
     ]
    }
   ],
   "source": [
    "# basic libraries\n",
    "import numpy as np\n",
    "import pandas as pd\n",
    "import matplotlib.pyplot as plt\n",
    "import seaborn as sns\n",
    "import plotly.express as px\n",
    "import plotly.graph_objects as go\n",
    "\n",
    "# import from scikit-learn library\n",
    "from sklearn.model_selection import train_test_split, GridSearchCV\n",
    "from sklearn.preprocessing import MinMaxScaler, OneHotEncoder\n",
    "from sklearn.compose import ColumnTransformer\n",
    "from sklearn.pipeline import Pipeline\n",
    "from sklearn.metrics import mean_squared_error, mean_absolute_error, r2_score\n",
    "from sklearn.linear_model import LinearRegression, Ridge, Lasso\n",
    "from sklearn.tree import DecisionTreeRegressor\n",
    "from sklearn.ensemble import RandomForestRegressor, GradientBoostingRegressor\n",
    "from sklearn.svm import SVR\n",
    "from sklearn.neighbors import KNeighborsRegressor\n",
    "from xgboost import XGBRegressor\n",
    "import pickle\n",
    "\n",
    "# ignore warnings\n",
    "import warnings\n",
    "warnings.filterwarnings('ignore')\n",
    "\n",
    "print('Libraries imported successfully!')"
   ]
  },
  {
   "cell_type": "markdown",
   "metadata": {},
   "source": [
    "<div id=\"explore-data\" style=\"background: linear-gradient(45deg, #ff6a00, #ee0979); padding: 20px 30px; border-radius: 12px; text-align: center; margin-top: 20px;\">\n",
    "  <h2 style=\"color: white; font-family: 'Tahoma', sans-serif; font-size: 32px; font-weight: bold; letter-spacing: 2px; text-shadow: 2px 2px 4px rgba(0, 0, 0, 0.3);\">\n",
    "    🔍 <span style=\"border-bottom: 4px solid #fff; padding-bottom: 5px;\">Explore Data</span>\n",
    "  </h2>\n",
    "</div>\n"
   ]
  },
  {
   "cell_type": "code",
   "execution_count": 26,
   "metadata": {},
   "outputs": [
    {
     "name": "stdout",
     "output_type": "stream",
     "text": [
      "Data loaded successfully\n"
     ]
    }
   ],
   "source": [
    "# Load the data\n",
    "df = pd.read_csv('car_data.csv')\n",
    "\n",
    "print('Data loaded successfully')"
   ]
  },
  {
   "cell_type": "code",
   "execution_count": 27,
   "metadata": {},
   "outputs": [
    {
     "data": {
      "text/html": [
       "<div>\n",
       "<style scoped>\n",
       "    .dataframe tbody tr th:only-of-type {\n",
       "        vertical-align: middle;\n",
       "    }\n",
       "\n",
       "    .dataframe tbody tr th {\n",
       "        vertical-align: top;\n",
       "    }\n",
       "\n",
       "    .dataframe thead th {\n",
       "        text-align: right;\n",
       "    }\n",
       "</style>\n",
       "<table border=\"1\" class=\"dataframe\">\n",
       "  <thead>\n",
       "    <tr style=\"text-align: right;\">\n",
       "      <th></th>\n",
       "      <th>Car_Name</th>\n",
       "      <th>Year</th>\n",
       "      <th>Selling_Price</th>\n",
       "      <th>Present_Price</th>\n",
       "      <th>Driven_kms</th>\n",
       "      <th>Fuel_Type</th>\n",
       "      <th>Selling_type</th>\n",
       "      <th>Transmission</th>\n",
       "      <th>Owner</th>\n",
       "    </tr>\n",
       "  </thead>\n",
       "  <tbody>\n",
       "    <tr>\n",
       "      <th>0</th>\n",
       "      <td>ritz</td>\n",
       "      <td>2014</td>\n",
       "      <td>3.35</td>\n",
       "      <td>5.59</td>\n",
       "      <td>27000</td>\n",
       "      <td>Petrol</td>\n",
       "      <td>Dealer</td>\n",
       "      <td>Manual</td>\n",
       "      <td>0</td>\n",
       "    </tr>\n",
       "    <tr>\n",
       "      <th>1</th>\n",
       "      <td>sx4</td>\n",
       "      <td>2013</td>\n",
       "      <td>4.75</td>\n",
       "      <td>9.54</td>\n",
       "      <td>43000</td>\n",
       "      <td>Diesel</td>\n",
       "      <td>Dealer</td>\n",
       "      <td>Manual</td>\n",
       "      <td>0</td>\n",
       "    </tr>\n",
       "    <tr>\n",
       "      <th>2</th>\n",
       "      <td>ciaz</td>\n",
       "      <td>2017</td>\n",
       "      <td>7.25</td>\n",
       "      <td>9.85</td>\n",
       "      <td>6900</td>\n",
       "      <td>Petrol</td>\n",
       "      <td>Dealer</td>\n",
       "      <td>Manual</td>\n",
       "      <td>0</td>\n",
       "    </tr>\n",
       "    <tr>\n",
       "      <th>3</th>\n",
       "      <td>wagon r</td>\n",
       "      <td>2011</td>\n",
       "      <td>2.85</td>\n",
       "      <td>4.15</td>\n",
       "      <td>5200</td>\n",
       "      <td>Petrol</td>\n",
       "      <td>Dealer</td>\n",
       "      <td>Manual</td>\n",
       "      <td>0</td>\n",
       "    </tr>\n",
       "    <tr>\n",
       "      <th>4</th>\n",
       "      <td>swift</td>\n",
       "      <td>2014</td>\n",
       "      <td>4.60</td>\n",
       "      <td>6.87</td>\n",
       "      <td>42450</td>\n",
       "      <td>Diesel</td>\n",
       "      <td>Dealer</td>\n",
       "      <td>Manual</td>\n",
       "      <td>0</td>\n",
       "    </tr>\n",
       "  </tbody>\n",
       "</table>\n",
       "</div>"
      ],
      "text/plain": [
       "  Car_Name  Year  Selling_Price  Present_Price  Driven_kms Fuel_Type  \\\n",
       "0     ritz  2014           3.35           5.59       27000    Petrol   \n",
       "1      sx4  2013           4.75           9.54       43000    Diesel   \n",
       "2     ciaz  2017           7.25           9.85        6900    Petrol   \n",
       "3  wagon r  2011           2.85           4.15        5200    Petrol   \n",
       "4    swift  2014           4.60           6.87       42450    Diesel   \n",
       "\n",
       "  Selling_type Transmission  Owner  \n",
       "0       Dealer       Manual      0  \n",
       "1       Dealer       Manual      0  \n",
       "2       Dealer       Manual      0  \n",
       "3       Dealer       Manual      0  \n",
       "4       Dealer       Manual      0  "
      ]
     },
     "execution_count": 27,
     "metadata": {},
     "output_type": "execute_result"
    }
   ],
   "source": [
    "# display the first 5 rows of the data\n",
    "df.head()"
   ]
  },
  {
   "cell_type": "code",
   "execution_count": 28,
   "metadata": {},
   "outputs": [
    {
     "name": "stdout",
     "output_type": "stream",
     "text": [
      "Rows = 301\n",
      "\n",
      "Columns = 9\n"
     ]
    }
   ],
   "source": [
    "# shape of data\n",
    "print(f'Rows = {df.shape[0]}\\n')\n",
    "print(f'Columns = {df.shape[1]}')"
   ]
  },
  {
   "cell_type": "code",
   "execution_count": 29,
   "metadata": {},
   "outputs": [
    {
     "name": "stdout",
     "output_type": "stream",
     "text": [
      "<class 'pandas.core.frame.DataFrame'>\n",
      "RangeIndex: 301 entries, 0 to 300\n",
      "Data columns (total 9 columns):\n",
      " #   Column         Non-Null Count  Dtype  \n",
      "---  ------         --------------  -----  \n",
      " 0   Car_Name       301 non-null    object \n",
      " 1   Year           301 non-null    int64  \n",
      " 2   Selling_Price  301 non-null    float64\n",
      " 3   Present_Price  301 non-null    float64\n",
      " 4   Driven_kms     301 non-null    int64  \n",
      " 5   Fuel_Type      301 non-null    object \n",
      " 6   Selling_type   301 non-null    object \n",
      " 7   Transmission   301 non-null    object \n",
      " 8   Owner          301 non-null    int64  \n",
      "dtypes: float64(2), int64(3), object(4)\n",
      "memory usage: 21.3+ KB\n"
     ]
    }
   ],
   "source": [
    "# info of data\n",
    "df.info()"
   ]
  },
  {
   "cell_type": "code",
   "execution_count": 30,
   "metadata": {},
   "outputs": [
    {
     "data": {
      "text/html": [
       "<style type=\"text/css\">\n",
       "#T_ec8a8_row0_col0 {\n",
       "  background-color: #46337f;\n",
       "  color: #f1f1f1;\n",
       "}\n",
       "#T_ec8a8_row0_col1, #T_ec8a8_row0_col2, #T_ec8a8_row0_col4, #T_ec8a8_row1_col0, #T_ec8a8_row4_col0, #T_ec8a8_row5_col0, #T_ec8a8_row6_col0, #T_ec8a8_row7_col0, #T_ec8a8_row7_col3 {\n",
       "  background-color: #fde725;\n",
       "  color: #000000;\n",
       "}\n",
       "#T_ec8a8_row0_col3, #T_ec8a8_row1_col4, #T_ec8a8_row2_col0, #T_ec8a8_row2_col4, #T_ec8a8_row3_col1, #T_ec8a8_row3_col2, #T_ec8a8_row3_col3, #T_ec8a8_row3_col4, #T_ec8a8_row4_col1, #T_ec8a8_row4_col2, #T_ec8a8_row4_col4, #T_ec8a8_row5_col4, #T_ec8a8_row6_col4 {\n",
       "  background-color: #440154;\n",
       "  color: #f1f1f1;\n",
       "}\n",
       "#T_ec8a8_row1_col1 {\n",
       "  background-color: #450559;\n",
       "  color: #f1f1f1;\n",
       "}\n",
       "#T_ec8a8_row1_col2 {\n",
       "  background-color: #460a5d;\n",
       "  color: #f1f1f1;\n",
       "}\n",
       "#T_ec8a8_row1_col3 {\n",
       "  background-color: #481b6d;\n",
       "  color: #f1f1f1;\n",
       "}\n",
       "#T_ec8a8_row2_col1 {\n",
       "  background-color: #46075a;\n",
       "  color: #f1f1f1;\n",
       "}\n",
       "#T_ec8a8_row2_col2, #T_ec8a8_row4_col3 {\n",
       "  background-color: #460b5e;\n",
       "  color: #f1f1f1;\n",
       "}\n",
       "#T_ec8a8_row2_col3 {\n",
       "  background-color: #481c6e;\n",
       "  color: #f1f1f1;\n",
       "}\n",
       "#T_ec8a8_row3_col0 {\n",
       "  background-color: #fbe723;\n",
       "  color: #000000;\n",
       "}\n",
       "#T_ec8a8_row5_col1, #T_ec8a8_row7_col4 {\n",
       "  background-color: #450457;\n",
       "  color: #f1f1f1;\n",
       "}\n",
       "#T_ec8a8_row5_col2, #T_ec8a8_row6_col1 {\n",
       "  background-color: #46085c;\n",
       "  color: #f1f1f1;\n",
       "}\n",
       "#T_ec8a8_row5_col3 {\n",
       "  background-color: #48186a;\n",
       "  color: #f1f1f1;\n",
       "}\n",
       "#T_ec8a8_row6_col2 {\n",
       "  background-color: #470d60;\n",
       "  color: #f1f1f1;\n",
       "}\n",
       "#T_ec8a8_row6_col3 {\n",
       "  background-color: #482374;\n",
       "  color: #f1f1f1;\n",
       "}\n",
       "#T_ec8a8_row7_col1 {\n",
       "  background-color: #482979;\n",
       "  color: #f1f1f1;\n",
       "}\n",
       "#T_ec8a8_row7_col2 {\n",
       "  background-color: #34618d;\n",
       "  color: #f1f1f1;\n",
       "}\n",
       "</style>\n",
       "<table id=\"T_ec8a8\">\n",
       "  <thead>\n",
       "    <tr>\n",
       "      <th class=\"blank level0\" >&nbsp;</th>\n",
       "      <th id=\"T_ec8a8_level0_col0\" class=\"col_heading level0 col0\" >Year</th>\n",
       "      <th id=\"T_ec8a8_level0_col1\" class=\"col_heading level0 col1\" >Selling_Price</th>\n",
       "      <th id=\"T_ec8a8_level0_col2\" class=\"col_heading level0 col2\" >Present_Price</th>\n",
       "      <th id=\"T_ec8a8_level0_col3\" class=\"col_heading level0 col3\" >Driven_kms</th>\n",
       "      <th id=\"T_ec8a8_level0_col4\" class=\"col_heading level0 col4\" >Owner</th>\n",
       "    </tr>\n",
       "  </thead>\n",
       "  <tbody>\n",
       "    <tr>\n",
       "      <th id=\"T_ec8a8_level0_row0\" class=\"row_heading level0 row0\" >count</th>\n",
       "      <td id=\"T_ec8a8_row0_col0\" class=\"data row0 col0\" >301.000000</td>\n",
       "      <td id=\"T_ec8a8_row0_col1\" class=\"data row0 col1\" >301.000000</td>\n",
       "      <td id=\"T_ec8a8_row0_col2\" class=\"data row0 col2\" >301.000000</td>\n",
       "      <td id=\"T_ec8a8_row0_col3\" class=\"data row0 col3\" >301.000000</td>\n",
       "      <td id=\"T_ec8a8_row0_col4\" class=\"data row0 col4\" >301.000000</td>\n",
       "    </tr>\n",
       "    <tr>\n",
       "      <th id=\"T_ec8a8_level0_row1\" class=\"row_heading level0 row1\" >mean</th>\n",
       "      <td id=\"T_ec8a8_row1_col0\" class=\"data row1 col0\" >2013.627907</td>\n",
       "      <td id=\"T_ec8a8_row1_col1\" class=\"data row1 col1\" >4.661296</td>\n",
       "      <td id=\"T_ec8a8_row1_col2\" class=\"data row1 col2\" >7.628472</td>\n",
       "      <td id=\"T_ec8a8_row1_col3\" class=\"data row1 col3\" >36947.205980</td>\n",
       "      <td id=\"T_ec8a8_row1_col4\" class=\"data row1 col4\" >0.043189</td>\n",
       "    </tr>\n",
       "    <tr>\n",
       "      <th id=\"T_ec8a8_level0_row2\" class=\"row_heading level0 row2\" >std</th>\n",
       "      <td id=\"T_ec8a8_row2_col0\" class=\"data row2 col0\" >2.891554</td>\n",
       "      <td id=\"T_ec8a8_row2_col1\" class=\"data row2 col1\" >5.082812</td>\n",
       "      <td id=\"T_ec8a8_row2_col2\" class=\"data row2 col2\" >8.642584</td>\n",
       "      <td id=\"T_ec8a8_row2_col3\" class=\"data row2 col3\" >38886.883882</td>\n",
       "      <td id=\"T_ec8a8_row2_col4\" class=\"data row2 col4\" >0.247915</td>\n",
       "    </tr>\n",
       "    <tr>\n",
       "      <th id=\"T_ec8a8_level0_row3\" class=\"row_heading level0 row3\" >min</th>\n",
       "      <td id=\"T_ec8a8_row3_col0\" class=\"data row3 col0\" >2003.000000</td>\n",
       "      <td id=\"T_ec8a8_row3_col1\" class=\"data row3 col1\" >0.100000</td>\n",
       "      <td id=\"T_ec8a8_row3_col2\" class=\"data row3 col2\" >0.320000</td>\n",
       "      <td id=\"T_ec8a8_row3_col3\" class=\"data row3 col3\" >500.000000</td>\n",
       "      <td id=\"T_ec8a8_row3_col4\" class=\"data row3 col4\" >0.000000</td>\n",
       "    </tr>\n",
       "    <tr>\n",
       "      <th id=\"T_ec8a8_level0_row4\" class=\"row_heading level0 row4\" >25%</th>\n",
       "      <td id=\"T_ec8a8_row4_col0\" class=\"data row4 col0\" >2012.000000</td>\n",
       "      <td id=\"T_ec8a8_row4_col1\" class=\"data row4 col1\" >0.900000</td>\n",
       "      <td id=\"T_ec8a8_row4_col2\" class=\"data row4 col2\" >1.200000</td>\n",
       "      <td id=\"T_ec8a8_row4_col3\" class=\"data row4 col3\" >15000.000000</td>\n",
       "      <td id=\"T_ec8a8_row4_col4\" class=\"data row4 col4\" >0.000000</td>\n",
       "    </tr>\n",
       "    <tr>\n",
       "      <th id=\"T_ec8a8_level0_row5\" class=\"row_heading level0 row5\" >50%</th>\n",
       "      <td id=\"T_ec8a8_row5_col0\" class=\"data row5 col0\" >2014.000000</td>\n",
       "      <td id=\"T_ec8a8_row5_col1\" class=\"data row5 col1\" >3.600000</td>\n",
       "      <td id=\"T_ec8a8_row5_col2\" class=\"data row5 col2\" >6.400000</td>\n",
       "      <td id=\"T_ec8a8_row5_col3\" class=\"data row5 col3\" >32000.000000</td>\n",
       "      <td id=\"T_ec8a8_row5_col4\" class=\"data row5 col4\" >0.000000</td>\n",
       "    </tr>\n",
       "    <tr>\n",
       "      <th id=\"T_ec8a8_level0_row6\" class=\"row_heading level0 row6\" >75%</th>\n",
       "      <td id=\"T_ec8a8_row6_col0\" class=\"data row6 col0\" >2016.000000</td>\n",
       "      <td id=\"T_ec8a8_row6_col1\" class=\"data row6 col1\" >6.000000</td>\n",
       "      <td id=\"T_ec8a8_row6_col2\" class=\"data row6 col2\" >9.900000</td>\n",
       "      <td id=\"T_ec8a8_row6_col3\" class=\"data row6 col3\" >48767.000000</td>\n",
       "      <td id=\"T_ec8a8_row6_col4\" class=\"data row6 col4\" >0.000000</td>\n",
       "    </tr>\n",
       "    <tr>\n",
       "      <th id=\"T_ec8a8_level0_row7\" class=\"row_heading level0 row7\" >max</th>\n",
       "      <td id=\"T_ec8a8_row7_col0\" class=\"data row7 col0\" >2018.000000</td>\n",
       "      <td id=\"T_ec8a8_row7_col1\" class=\"data row7 col1\" >35.000000</td>\n",
       "      <td id=\"T_ec8a8_row7_col2\" class=\"data row7 col2\" >92.600000</td>\n",
       "      <td id=\"T_ec8a8_row7_col3\" class=\"data row7 col3\" >500000.000000</td>\n",
       "      <td id=\"T_ec8a8_row7_col4\" class=\"data row7 col4\" >3.000000</td>\n",
       "    </tr>\n",
       "  </tbody>\n",
       "</table>\n"
      ],
      "text/plain": [
       "<pandas.io.formats.style.Styler at 0x2f4211fac10>"
      ]
     },
     "execution_count": 30,
     "metadata": {},
     "output_type": "execute_result"
    }
   ],
   "source": [
    "# statistical summary of data\n",
    "num_sum = df.describe()\n",
    "palette = sns.color_palette('viridis', as_cmap=True)\n",
    "num_sum.style.background_gradient(cmap=palette)"
   ]
  },
  {
   "cell_type": "markdown",
   "metadata": {},
   "source": [
    "<div style=\"background: linear-gradient(45deg, #f39c12, #e74c3c); padding: 20px 30px; border-radius: 12px; text-align: center; margin-top: 20px;\">\n",
    "  <h2 style=\"color: white; font-family: 'Arial', sans-serif; font-size: 28px; font-weight: 700; text-transform: capitalize; letter-spacing: 1.5px; text-shadow: 3px 3px 6px rgba(0, 0, 0, 0.3);\">\n",
    "   🎉 Congratulation! We have successfully completed the data exploration phase.\n",
    "    Now, let's move forward to the data cleaning section 🧹\n",
    "  </h2>\n",
    "</div>\n"
   ]
  },
  {
   "cell_type": "markdown",
   "metadata": {},
   "source": [
    "---"
   ]
  },
  {
   "cell_type": "markdown",
   "metadata": {},
   "source": [
    "<div id=\"data-cleaning\" style=\"background: linear-gradient(45deg, #00bcd4, #8e44ad); padding: 20px 30px; border-radius: 12px; text-align: center; margin-top: 20px;\">\n",
    "  <h2 style=\"color: white; font-family: 'Arial', sans-serif; font-size: 30px; font-weight: 700; text-transform: uppercase; letter-spacing: 1px; text-shadow: 3px 3px 6px rgba(0, 0, 0, 0.4);\">\n",
    "    🧹 <span style=\"border-bottom: 4px solid #fff; padding-bottom: 5px;\">Data Cleaning</span>\n",
    "  </h2>\n",
    "</div>\n"
   ]
  },
  {
   "cell_type": "markdown",
   "metadata": {},
   "source": [
    "# **Missing Values**"
   ]
  },
  {
   "cell_type": "code",
   "execution_count": 31,
   "metadata": {},
   "outputs": [
    {
     "name": "stdout",
     "output_type": "stream",
     "text": [
      "Car_Name         0\n",
      "Year             0\n",
      "Selling_Price    0\n",
      "Present_Price    0\n",
      "Driven_kms       0\n",
      "Fuel_Type        0\n",
      "Selling_type     0\n",
      "Transmission     0\n",
      "Owner            0\n",
      "dtype: int64\n",
      "\n",
      " There is no missing values in the dataset\n"
     ]
    }
   ],
   "source": [
    "# missing values\n",
    "missing = df.isnull().sum()\n",
    "print(missing)\n",
    "\n",
    "print('\\n There is no missing values in the dataset')"
   ]
  },
  {
   "cell_type": "markdown",
   "metadata": {},
   "source": [
    "# **Duplicate Rows**"
   ]
  },
  {
   "cell_type": "code",
   "execution_count": 32,
   "metadata": {},
   "outputs": [
    {
     "name": "stdout",
     "output_type": "stream",
     "text": [
      "Number of duplicate rows = 2\n",
      "After dropping duplicates\n",
      "Number of duplicate rows = 0\n"
     ]
    }
   ],
   "source": [
    "# duplicate values\n",
    "duplicates = df.duplicated().sum()\n",
    "print(f\"Number of duplicate rows = {duplicates}\")\n",
    "\n",
    "# drop duplicates\n",
    "print(\"After dropping duplicates\")\n",
    "df.drop_duplicates(inplace=True)\n",
    "print(f\"Number of duplicate rows = {df.duplicated().sum()}\")\n"
   ]
  },
  {
   "cell_type": "markdown",
   "metadata": {},
   "source": [
    "# **Outliers**"
   ]
  },
  {
   "cell_type": "code",
   "execution_count": 33,
   "metadata": {},
   "outputs": [
    {
     "name": "stdout",
     "output_type": "stream",
     "text": [
      "There are total 16 outliers in Driven_kms, Selling_Price and Present_Price columns using Z-score method\n",
      "____________________________________________________________________________________________________ \n",
      "\n",
      "There are total 38 outliers in Driven_kms, Selling_Price and Present_Price columns using IQR method\n"
     ]
    }
   ],
   "source": [
    "# outliers using z-score method of Driven_kms Selling_Price and Present_Price columns using numpy\n",
    "from scipy import stats\n",
    "z = np.abs(stats.zscore(df[['Driven_kms', 'Selling_Price', 'Present_Price']]))\n",
    "outliers = (z > 3).sum()\n",
    "print(f'There are total {outliers.sum()} outliers in Driven_kms, Selling_Price and Present_Price columns using Z-score method')\n",
    "\n",
    "print('_'*100, '\\n')\n",
    "\n",
    "# outliers using iqr method Driven_kms Selling_Price and Present_Price columns\n",
    "Q1 = df[['Driven_kms', 'Selling_Price', 'Present_Price']].quantile(0.25)\n",
    "Q3 = df[['Driven_kms', 'Selling_Price', 'Present_Price']].quantile(0.75)\n",
    "IQR = Q3 - Q1\n",
    "outliers = (df[['Driven_kms', 'Selling_Price', 'Present_Price']] < (Q1 - 1.5 * IQR)) | (df[['Driven_kms', 'Selling_Price', 'Present_Price']] > (Q3 + 1.5 * IQR))\n",
    "print(f'There are total {outliers.sum().sum()} outliers in Driven_kms, Selling_Price and Present_Price columns using IQR method')"
   ]
  },
  {
   "cell_type": "code",
   "execution_count": 34,
   "metadata": {},
   "outputs": [
    {
     "data": {
      "application/vnd.plotly.v1+json": {
       "config": {
        "plotlyServerURL": "https://plot.ly"
       },
       "data": [
        {
         "boxpoints": "outliers",
         "jitter": 0.3,
         "marker": {
          "color": "darkblue"
         },
         "name": "Driven_kms",
         "pointpos": -1.8,
         "type": "box",
         "xaxis": "x",
         "y": [
          27000,
          43000,
          6900,
          5200,
          42450,
          2071,
          18796,
          33429,
          20273,
          42367,
          2135,
          51000,
          15000,
          26000,
          77427,
          43000,
          41678,
          35500,
          41442,
          25000,
          2400,
          50000,
          45280,
          56879,
          20000,
          55138,
          16200,
          44542,
          45000,
          51439,
          54200,
          39000,
          45000,
          45000,
          49998,
          48767,
          127000,
          10079,
          62000,
          24524,
          46706,
          58000,
          45780,
          50000,
          15000,
          64532,
          65000,
          25870,
          37000,
          104707,
          40000,
          15000,
          135000,
          90000,
          70000,
          40534,
          50000,
          39485,
          41000,
          40001,
          40588,
          78000,
          47000,
          6000,
          45000,
          11000,
          59000,
          88000,
          12000,
          71000,
          45000,
          56001,
          43000,
          83000,
          36000,
          72000,
          135154,
          80000,
          89000,
          23000,
          40000,
          15000,
          38000,
          197176,
          142000,
          78000,
          56000,
          47000,
          40000,
          62000,
          58242,
          75000,
          89000,
          72000,
          29000,
          8700,
          45000,
          50024,
          3000,
          1400,
          4000,
          1200,
          4100,
          21700,
          16500,
          15000,
          18000,
          11000,
          6000,
          8700,
          7000,
          35000,
          17000,
          17500,
          33000,
          14000,
          26000,
          5400,
          5700,
          6900,
          6000,
          46500,
          11500,
          40000,
          1300,
          7000,
          3000,
          5000,
          11000,
          18000,
          3500,
          500,
          11800,
          5000,
          23500,
          16000,
          15000,
          16600,
          32000,
          20000,
          29000,
          25000,
          25000,
          19000,
          15000,
          58000,
          45000,
          24000,
          6000,
          31000,
          13000,
          45000,
          8000,
          4300,
          15000,
          23000,
          8600,
          4000,
          24000,
          23000,
          14500,
          27000,
          14000,
          500,
          1000,
          42000,
          12000,
          14000,
          5500,
          6700,
          13700,
          1300,
          38600,
          75000,
          30000,
          24000,
          19000,
          213000,
          60000,
          50000,
          30000,
          21000,
          26000,
          1900,
          22000,
          32000,
          18000,
          55000,
          60000,
          25000,
          49000,
          24000,
          50000,
          35000,
          500000,
          33000,
          35000,
          53000,
          92233,
          58000,
          28200,
          53460,
          28282,
          3493,
          12479,
          34797,
          3435,
          21125,
          35775,
          43535,
          22671,
          31604,
          20114,
          36100,
          12500,
          15000,
          45078,
          36000,
          38488,
          32000,
          77632,
          61381,
          36198,
          22517,
          24678,
          57000,
          60000,
          52132,
          45000,
          15001,
          12900,
          53000,
          4492,
          15141,
          11849,
          68000,
          60241,
          23709,
          32322,
          35866,
          34000,
          7000,
          49000,
          71000,
          35000,
          36000,
          30000,
          17000,
          35934,
          56701,
          31427,
          48000,
          54242,
          53675,
          49562,
          40324,
          25000,
          36054,
          29223,
          5600,
          40023,
          16002,
          40026,
          21200,
          35000,
          19434,
          19000,
          18828,
          69341,
          69562,
          27600,
          61203,
          16500,
          30753,
          24800,
          21780,
          4000,
          40126,
          14465,
          50456,
          63000,
          9010,
          9800,
          15059,
          28569,
          44000,
          34000,
          10980,
          19000,
          31427,
          12000,
          38000,
          33019,
          60076,
          33988,
          60000,
          87934,
          9000,
          5464
         ],
         "yaxis": "y"
        },
        {
         "boxpoints": "outliers",
         "jitter": 0.3,
         "marker": {
          "color": "darkgreen"
         },
         "name": "Present_Price",
         "pointpos": -1.8,
         "type": "box",
         "xaxis": "x2",
         "y": [
          5.59,
          9.54,
          9.85,
          4.15,
          6.87,
          9.83,
          8.12,
          8.61,
          8.89,
          8.92,
          3.6,
          10.38,
          9.94,
          7.71,
          7.21,
          10.79,
          10.79,
          5.09,
          7.98,
          3.95,
          5.71,
          8.01,
          3.46,
          4.41,
          4.99,
          5.87,
          6.49,
          3.95,
          10.38,
          5.98,
          4.89,
          7.49,
          9.95,
          8.06,
          7.74,
          7.2,
          2.28,
          3.76,
          7.98,
          7.87,
          3.98,
          7.15,
          8.06,
          2.69,
          12.04,
          4.89,
          4.15,
          7.71,
          9.29,
          30.61,
          30.61,
          19.77,
          30.61,
          10.21,
          15.04,
          7.27,
          18.54,
          6.8,
          35.96,
          18.61,
          7.7,
          35.96,
          35.96,
          36.23,
          6.95,
          23.15,
          20.45,
          13.74,
          20.91,
          6.76,
          12.48,
          18.61,
          5.71,
          8.93,
          6.8,
          14.68,
          12.35,
          22.83,
          30.61,
          14.89,
          7.85,
          25.39,
          13.46,
          13.46,
          23.73,
          92.6,
          13.74,
          6.05,
          6.76,
          18.61,
          16.09,
          13.7,
          22.78,
          18.61,
          25.39,
          18.64,
          18.61,
          20.45,
          1.9,
          1.82,
          1.78,
          1.6,
          1.47,
          2.37,
          3.45,
          1.5,
          1.5,
          1.47,
          1.78,
          1.5,
          2.4,
          1.4,
          1.47,
          1.47,
          1.47,
          1.9,
          1.47,
          1.9,
          1.26,
          1.5,
          1.17,
          1.47,
          1.75,
          1.75,
          0.95,
          0.8,
          0.87,
          0.84,
          0.87,
          0.82,
          0.95,
          0.95,
          0.81,
          0.74,
          1.2,
          0.787,
          0.87,
          0.95,
          1.2,
          0.8,
          0.84,
          0.84,
          0.99,
          0.81,
          0.787,
          0.84,
          0.94,
          0.94,
          0.826,
          0.55,
          0.99,
          0.99,
          0.88,
          0.51,
          0.52,
          0.84,
          0.54,
          0.51,
          0.95,
          0.826,
          0.99,
          0.95,
          0.54,
          0.54,
          0.55,
          0.81,
          0.73,
          0.54,
          0.83,
          0.55,
          0.64,
          0.51,
          0.72,
          0.787,
          1.05,
          0.57,
          0.52,
          1.05,
          0.51,
          0.48,
          0.58,
          0.47,
          0.75,
          0.58,
          0.52,
          0.51,
          0.57,
          0.57,
          0.75,
          0.57,
          0.75,
          0.65,
          0.787,
          0.32,
          0.52,
          0.51,
          0.57,
          0.58,
          0.75,
          6.79,
          5.7,
          4.6,
          4.43,
          5.7,
          7.13,
          5.7,
          8.1,
          5.7,
          4.6,
          14.79,
          13.6,
          6.79,
          5.7,
          9.4,
          4.43,
          4.43,
          8.4,
          9.4,
          5.43,
          6.79,
          7.6,
          9.4,
          9.4,
          4.6,
          5.7,
          4.43,
          9.4,
          6.79,
          9.4,
          9.4,
          14.79,
          5.7,
          5.7,
          9.4,
          4.43,
          13.6,
          9.4,
          4.43,
          9.4,
          7.13,
          7.13,
          7.6,
          9.4,
          9.4,
          6.79,
          9.4,
          4.6,
          7.6,
          13.6,
          9.9,
          6.82,
          9.9,
          9.9,
          5.35,
          13.6,
          13.6,
          13.6,
          7,
          13.6,
          5.97,
          5.8,
          7.7,
          7,
          8.7,
          7,
          9.4,
          5.8,
          10,
          10,
          10,
          10,
          7.5,
          6.8,
          13.6,
          13.6,
          13.6,
          8.4,
          13.6,
          5.9,
          7.6,
          14,
          11.8,
          5.9,
          8.5,
          7.9,
          7.5,
          13.6,
          13.6,
          6.4,
          6.1,
          8.4,
          9.9,
          6.8,
          13.09,
          11.6,
          5.9,
          11,
          12.5,
          5.9
         ],
         "yaxis": "y2"
        },
        {
         "boxpoints": "outliers",
         "jitter": 0.3,
         "marker": {
          "color": "darkred"
         },
         "name": "Selling_Price",
         "pointpos": -1.8,
         "type": "box",
         "xaxis": "x3",
         "y": [
          3.35,
          4.75,
          7.25,
          2.85,
          4.6,
          9.25,
          6.75,
          6.5,
          8.75,
          7.45,
          2.85,
          6.85,
          7.5,
          6.1,
          2.25,
          7.75,
          7.25,
          3.25,
          2.65,
          2.85,
          4.9,
          4.4,
          2.5,
          2.9,
          3,
          4.15,
          6,
          1.95,
          7.45,
          3.1,
          2.35,
          4.95,
          6,
          5.5,
          2.95,
          4.65,
          0.35,
          3,
          2.25,
          5.85,
          2.55,
          1.95,
          5.5,
          1.25,
          7.5,
          2.65,
          1.05,
          5.8,
          7.75,
          14.9,
          23,
          18,
          16,
          2.75,
          3.6,
          4.5,
          4.75,
          4.1,
          19.99,
          6.95,
          4.5,
          18.75,
          23.5,
          33,
          4.75,
          19.75,
          9.25,
          4.35,
          14.25,
          3.95,
          4.5,
          7.45,
          2.65,
          4.9,
          3.95,
          5.5,
          1.5,
          5.25,
          14.5,
          14.73,
          4.75,
          23,
          12.5,
          3.49,
          2.5,
          35,
          5.9,
          3.45,
          4.75,
          3.8,
          11.25,
          3.51,
          4,
          5.85,
          20.75,
          17,
          7.05,
          9.65,
          1.75,
          1.7,
          1.65,
          1.45,
          1.35,
          1.35,
          1.35,
          1.25,
          1.2,
          1.2,
          1.2,
          1.15,
          1.15,
          1.15,
          1.15,
          1.11,
          1.1,
          1.1,
          1.1,
          1.05,
          1.05,
          1.05,
          1.05,
          1,
          0.95,
          0.9,
          0.9,
          0.75,
          0.8,
          0.78,
          0.75,
          0.75,
          0.75,
          0.72,
          0.65,
          0.65,
          0.65,
          0.65,
          0.6,
          0.6,
          0.6,
          0.6,
          0.6,
          0.6,
          0.6,
          0.6,
          0.55,
          0.55,
          0.52,
          0.51,
          0.5,
          0.5,
          0.5,
          0.5,
          0.5,
          0.48,
          0.48,
          0.48,
          0.48,
          0.45,
          0.45,
          0.45,
          0.45,
          0.45,
          0.45,
          0.45,
          0.45,
          0.42,
          0.42,
          0.4,
          0.4,
          0.4,
          0.4,
          0.4,
          0.38,
          0.38,
          0.35,
          0.35,
          0.35,
          0.31,
          0.3,
          0.3,
          0.3,
          0.27,
          0.25,
          0.25,
          0.25,
          0.25,
          0.25,
          0.2,
          0.2,
          0.2,
          0.2,
          0.2,
          0.2,
          0.18,
          0.17,
          0.16,
          0.15,
          0.12,
          0.1,
          3.25,
          4.4,
          2.95,
          2.75,
          5.25,
          5.75,
          5.15,
          7.9,
          4.85,
          3.1,
          11.75,
          11.25,
          2.9,
          5.25,
          4.5,
          2.9,
          3.15,
          6.45,
          4.5,
          3.5,
          4.5,
          6,
          8.25,
          5.11,
          2.7,
          5.25,
          2.55,
          4.95,
          3.1,
          6.15,
          9.25,
          11.45,
          3.9,
          5.5,
          9.1,
          3.1,
          11.25,
          4.8,
          2,
          5.35,
          4.75,
          4.4,
          6.25,
          5.95,
          5.2,
          3.75,
          5.95,
          4,
          5.25,
          12.9,
          5,
          5.4,
          7.2,
          5.25,
          3,
          10.25,
          8.5,
          8.4,
          3.9,
          9.15,
          5.5,
          4,
          6.6,
          4,
          6.5,
          3.65,
          8.35,
          4.8,
          6.7,
          4.1,
          3,
          7.5,
          2.25,
          5.3,
          10.9,
          8.65,
          9.7,
          6,
          6.25,
          5.25,
          2.1,
          8.25,
          8.99,
          3.5,
          7.4,
          5.65,
          5.75,
          8.4,
          10.11,
          4.5,
          5.4,
          6.4,
          3.25,
          3.75,
          8.55,
          9.5,
          4,
          3.35,
          11.5,
          5.3
         ],
         "yaxis": "y3"
        }
       ],
       "layout": {
        "annotations": [
         {
          "font": {
           "size": 16
          },
          "showarrow": false,
          "text": "Driven_kms",
          "x": 0.14444444444444446,
          "xanchor": "center",
          "xref": "paper",
          "y": 1,
          "yanchor": "bottom",
          "yref": "paper"
         },
         {
          "font": {
           "size": 16
          },
          "showarrow": false,
          "text": "Present_Price",
          "x": 0.5,
          "xanchor": "center",
          "xref": "paper",
          "y": 1,
          "yanchor": "bottom",
          "yref": "paper"
         },
         {
          "font": {
           "size": 16
          },
          "showarrow": false,
          "text": "Selling_Price",
          "x": 0.8555555555555556,
          "xanchor": "center",
          "xref": "paper",
          "y": 1,
          "yanchor": "bottom",
          "yref": "paper"
         }
        ],
        "font": {
         "size": 18
        },
        "showlegend": false,
        "template": {
         "data": {
          "bar": [
           {
            "error_x": {
             "color": "#2a3f5f"
            },
            "error_y": {
             "color": "#2a3f5f"
            },
            "marker": {
             "line": {
              "color": "#E5ECF6",
              "width": 0.5
             },
             "pattern": {
              "fillmode": "overlay",
              "size": 10,
              "solidity": 0.2
             }
            },
            "type": "bar"
           }
          ],
          "barpolar": [
           {
            "marker": {
             "line": {
              "color": "#E5ECF6",
              "width": 0.5
             },
             "pattern": {
              "fillmode": "overlay",
              "size": 10,
              "solidity": 0.2
             }
            },
            "type": "barpolar"
           }
          ],
          "carpet": [
           {
            "aaxis": {
             "endlinecolor": "#2a3f5f",
             "gridcolor": "white",
             "linecolor": "white",
             "minorgridcolor": "white",
             "startlinecolor": "#2a3f5f"
            },
            "baxis": {
             "endlinecolor": "#2a3f5f",
             "gridcolor": "white",
             "linecolor": "white",
             "minorgridcolor": "white",
             "startlinecolor": "#2a3f5f"
            },
            "type": "carpet"
           }
          ],
          "choropleth": [
           {
            "colorbar": {
             "outlinewidth": 0,
             "ticks": ""
            },
            "type": "choropleth"
           }
          ],
          "contour": [
           {
            "colorbar": {
             "outlinewidth": 0,
             "ticks": ""
            },
            "colorscale": [
             [
              0,
              "#0d0887"
             ],
             [
              0.1111111111111111,
              "#46039f"
             ],
             [
              0.2222222222222222,
              "#7201a8"
             ],
             [
              0.3333333333333333,
              "#9c179e"
             ],
             [
              0.4444444444444444,
              "#bd3786"
             ],
             [
              0.5555555555555556,
              "#d8576b"
             ],
             [
              0.6666666666666666,
              "#ed7953"
             ],
             [
              0.7777777777777778,
              "#fb9f3a"
             ],
             [
              0.8888888888888888,
              "#fdca26"
             ],
             [
              1,
              "#f0f921"
             ]
            ],
            "type": "contour"
           }
          ],
          "contourcarpet": [
           {
            "colorbar": {
             "outlinewidth": 0,
             "ticks": ""
            },
            "type": "contourcarpet"
           }
          ],
          "heatmap": [
           {
            "colorbar": {
             "outlinewidth": 0,
             "ticks": ""
            },
            "colorscale": [
             [
              0,
              "#0d0887"
             ],
             [
              0.1111111111111111,
              "#46039f"
             ],
             [
              0.2222222222222222,
              "#7201a8"
             ],
             [
              0.3333333333333333,
              "#9c179e"
             ],
             [
              0.4444444444444444,
              "#bd3786"
             ],
             [
              0.5555555555555556,
              "#d8576b"
             ],
             [
              0.6666666666666666,
              "#ed7953"
             ],
             [
              0.7777777777777778,
              "#fb9f3a"
             ],
             [
              0.8888888888888888,
              "#fdca26"
             ],
             [
              1,
              "#f0f921"
             ]
            ],
            "type": "heatmap"
           }
          ],
          "heatmapgl": [
           {
            "colorbar": {
             "outlinewidth": 0,
             "ticks": ""
            },
            "colorscale": [
             [
              0,
              "#0d0887"
             ],
             [
              0.1111111111111111,
              "#46039f"
             ],
             [
              0.2222222222222222,
              "#7201a8"
             ],
             [
              0.3333333333333333,
              "#9c179e"
             ],
             [
              0.4444444444444444,
              "#bd3786"
             ],
             [
              0.5555555555555556,
              "#d8576b"
             ],
             [
              0.6666666666666666,
              "#ed7953"
             ],
             [
              0.7777777777777778,
              "#fb9f3a"
             ],
             [
              0.8888888888888888,
              "#fdca26"
             ],
             [
              1,
              "#f0f921"
             ]
            ],
            "type": "heatmapgl"
           }
          ],
          "histogram": [
           {
            "marker": {
             "pattern": {
              "fillmode": "overlay",
              "size": 10,
              "solidity": 0.2
             }
            },
            "type": "histogram"
           }
          ],
          "histogram2d": [
           {
            "colorbar": {
             "outlinewidth": 0,
             "ticks": ""
            },
            "colorscale": [
             [
              0,
              "#0d0887"
             ],
             [
              0.1111111111111111,
              "#46039f"
             ],
             [
              0.2222222222222222,
              "#7201a8"
             ],
             [
              0.3333333333333333,
              "#9c179e"
             ],
             [
              0.4444444444444444,
              "#bd3786"
             ],
             [
              0.5555555555555556,
              "#d8576b"
             ],
             [
              0.6666666666666666,
              "#ed7953"
             ],
             [
              0.7777777777777778,
              "#fb9f3a"
             ],
             [
              0.8888888888888888,
              "#fdca26"
             ],
             [
              1,
              "#f0f921"
             ]
            ],
            "type": "histogram2d"
           }
          ],
          "histogram2dcontour": [
           {
            "colorbar": {
             "outlinewidth": 0,
             "ticks": ""
            },
            "colorscale": [
             [
              0,
              "#0d0887"
             ],
             [
              0.1111111111111111,
              "#46039f"
             ],
             [
              0.2222222222222222,
              "#7201a8"
             ],
             [
              0.3333333333333333,
              "#9c179e"
             ],
             [
              0.4444444444444444,
              "#bd3786"
             ],
             [
              0.5555555555555556,
              "#d8576b"
             ],
             [
              0.6666666666666666,
              "#ed7953"
             ],
             [
              0.7777777777777778,
              "#fb9f3a"
             ],
             [
              0.8888888888888888,
              "#fdca26"
             ],
             [
              1,
              "#f0f921"
             ]
            ],
            "type": "histogram2dcontour"
           }
          ],
          "mesh3d": [
           {
            "colorbar": {
             "outlinewidth": 0,
             "ticks": ""
            },
            "type": "mesh3d"
           }
          ],
          "parcoords": [
           {
            "line": {
             "colorbar": {
              "outlinewidth": 0,
              "ticks": ""
             }
            },
            "type": "parcoords"
           }
          ],
          "pie": [
           {
            "automargin": true,
            "type": "pie"
           }
          ],
          "scatter": [
           {
            "fillpattern": {
             "fillmode": "overlay",
             "size": 10,
             "solidity": 0.2
            },
            "type": "scatter"
           }
          ],
          "scatter3d": [
           {
            "line": {
             "colorbar": {
              "outlinewidth": 0,
              "ticks": ""
             }
            },
            "marker": {
             "colorbar": {
              "outlinewidth": 0,
              "ticks": ""
             }
            },
            "type": "scatter3d"
           }
          ],
          "scattercarpet": [
           {
            "marker": {
             "colorbar": {
              "outlinewidth": 0,
              "ticks": ""
             }
            },
            "type": "scattercarpet"
           }
          ],
          "scattergeo": [
           {
            "marker": {
             "colorbar": {
              "outlinewidth": 0,
              "ticks": ""
             }
            },
            "type": "scattergeo"
           }
          ],
          "scattergl": [
           {
            "marker": {
             "colorbar": {
              "outlinewidth": 0,
              "ticks": ""
             }
            },
            "type": "scattergl"
           }
          ],
          "scattermapbox": [
           {
            "marker": {
             "colorbar": {
              "outlinewidth": 0,
              "ticks": ""
             }
            },
            "type": "scattermapbox"
           }
          ],
          "scatterpolar": [
           {
            "marker": {
             "colorbar": {
              "outlinewidth": 0,
              "ticks": ""
             }
            },
            "type": "scatterpolar"
           }
          ],
          "scatterpolargl": [
           {
            "marker": {
             "colorbar": {
              "outlinewidth": 0,
              "ticks": ""
             }
            },
            "type": "scatterpolargl"
           }
          ],
          "scatterternary": [
           {
            "marker": {
             "colorbar": {
              "outlinewidth": 0,
              "ticks": ""
             }
            },
            "type": "scatterternary"
           }
          ],
          "surface": [
           {
            "colorbar": {
             "outlinewidth": 0,
             "ticks": ""
            },
            "colorscale": [
             [
              0,
              "#0d0887"
             ],
             [
              0.1111111111111111,
              "#46039f"
             ],
             [
              0.2222222222222222,
              "#7201a8"
             ],
             [
              0.3333333333333333,
              "#9c179e"
             ],
             [
              0.4444444444444444,
              "#bd3786"
             ],
             [
              0.5555555555555556,
              "#d8576b"
             ],
             [
              0.6666666666666666,
              "#ed7953"
             ],
             [
              0.7777777777777778,
              "#fb9f3a"
             ],
             [
              0.8888888888888888,
              "#fdca26"
             ],
             [
              1,
              "#f0f921"
             ]
            ],
            "type": "surface"
           }
          ],
          "table": [
           {
            "cells": {
             "fill": {
              "color": "#EBF0F8"
             },
             "line": {
              "color": "white"
             }
            },
            "header": {
             "fill": {
              "color": "#C8D4E3"
             },
             "line": {
              "color": "white"
             }
            },
            "type": "table"
           }
          ]
         },
         "layout": {
          "annotationdefaults": {
           "arrowcolor": "#2a3f5f",
           "arrowhead": 0,
           "arrowwidth": 1
          },
          "autotypenumbers": "strict",
          "coloraxis": {
           "colorbar": {
            "outlinewidth": 0,
            "ticks": ""
           }
          },
          "colorscale": {
           "diverging": [
            [
             0,
             "#8e0152"
            ],
            [
             0.1,
             "#c51b7d"
            ],
            [
             0.2,
             "#de77ae"
            ],
            [
             0.3,
             "#f1b6da"
            ],
            [
             0.4,
             "#fde0ef"
            ],
            [
             0.5,
             "#f7f7f7"
            ],
            [
             0.6,
             "#e6f5d0"
            ],
            [
             0.7,
             "#b8e186"
            ],
            [
             0.8,
             "#7fbc41"
            ],
            [
             0.9,
             "#4d9221"
            ],
            [
             1,
             "#276419"
            ]
           ],
           "sequential": [
            [
             0,
             "#0d0887"
            ],
            [
             0.1111111111111111,
             "#46039f"
            ],
            [
             0.2222222222222222,
             "#7201a8"
            ],
            [
             0.3333333333333333,
             "#9c179e"
            ],
            [
             0.4444444444444444,
             "#bd3786"
            ],
            [
             0.5555555555555556,
             "#d8576b"
            ],
            [
             0.6666666666666666,
             "#ed7953"
            ],
            [
             0.7777777777777778,
             "#fb9f3a"
            ],
            [
             0.8888888888888888,
             "#fdca26"
            ],
            [
             1,
             "#f0f921"
            ]
           ],
           "sequentialminus": [
            [
             0,
             "#0d0887"
            ],
            [
             0.1111111111111111,
             "#46039f"
            ],
            [
             0.2222222222222222,
             "#7201a8"
            ],
            [
             0.3333333333333333,
             "#9c179e"
            ],
            [
             0.4444444444444444,
             "#bd3786"
            ],
            [
             0.5555555555555556,
             "#d8576b"
            ],
            [
             0.6666666666666666,
             "#ed7953"
            ],
            [
             0.7777777777777778,
             "#fb9f3a"
            ],
            [
             0.8888888888888888,
             "#fdca26"
            ],
            [
             1,
             "#f0f921"
            ]
           ]
          },
          "colorway": [
           "#636efa",
           "#EF553B",
           "#00cc96",
           "#ab63fa",
           "#FFA15A",
           "#19d3f3",
           "#FF6692",
           "#B6E880",
           "#FF97FF",
           "#FECB52"
          ],
          "font": {
           "color": "#2a3f5f"
          },
          "geo": {
           "bgcolor": "white",
           "lakecolor": "white",
           "landcolor": "#E5ECF6",
           "showlakes": true,
           "showland": true,
           "subunitcolor": "white"
          },
          "hoverlabel": {
           "align": "left"
          },
          "hovermode": "closest",
          "mapbox": {
           "style": "light"
          },
          "paper_bgcolor": "white",
          "plot_bgcolor": "#E5ECF6",
          "polar": {
           "angularaxis": {
            "gridcolor": "white",
            "linecolor": "white",
            "ticks": ""
           },
           "bgcolor": "#E5ECF6",
           "radialaxis": {
            "gridcolor": "white",
            "linecolor": "white",
            "ticks": ""
           }
          },
          "scene": {
           "xaxis": {
            "backgroundcolor": "#E5ECF6",
            "gridcolor": "white",
            "gridwidth": 2,
            "linecolor": "white",
            "showbackground": true,
            "ticks": "",
            "zerolinecolor": "white"
           },
           "yaxis": {
            "backgroundcolor": "#E5ECF6",
            "gridcolor": "white",
            "gridwidth": 2,
            "linecolor": "white",
            "showbackground": true,
            "ticks": "",
            "zerolinecolor": "white"
           },
           "zaxis": {
            "backgroundcolor": "#E5ECF6",
            "gridcolor": "white",
            "gridwidth": 2,
            "linecolor": "white",
            "showbackground": true,
            "ticks": "",
            "zerolinecolor": "white"
           }
          },
          "shapedefaults": {
           "line": {
            "color": "#2a3f5f"
           }
          },
          "ternary": {
           "aaxis": {
            "gridcolor": "white",
            "linecolor": "white",
            "ticks": ""
           },
           "baxis": {
            "gridcolor": "white",
            "linecolor": "white",
            "ticks": ""
           },
           "bgcolor": "#E5ECF6",
           "caxis": {
            "gridcolor": "white",
            "linecolor": "white",
            "ticks": ""
           }
          },
          "title": {
           "x": 0.05
          },
          "xaxis": {
           "automargin": true,
           "gridcolor": "white",
           "linecolor": "white",
           "ticks": "",
           "title": {
            "standoff": 15
           },
           "zerolinecolor": "white",
           "zerolinewidth": 2
          },
          "yaxis": {
           "automargin": true,
           "gridcolor": "white",
           "linecolor": "white",
           "ticks": "",
           "title": {
            "standoff": 15
           },
           "zerolinecolor": "white",
           "zerolinewidth": 2
          }
         }
        },
        "title": {
         "text": "<b>Box Plots of Car Data Columns</b>"
        },
        "xaxis": {
         "anchor": "y",
         "domain": [
          0,
          0.2888888888888889
         ]
        },
        "xaxis2": {
         "anchor": "y2",
         "domain": [
          0.35555555555555557,
          0.6444444444444445
         ]
        },
        "xaxis3": {
         "anchor": "y3",
         "domain": [
          0.7111111111111111,
          1
         ]
        },
        "yaxis": {
         "anchor": "x",
         "domain": [
          0,
          1
         ]
        },
        "yaxis2": {
         "anchor": "x2",
         "domain": [
          0,
          1
         ]
        },
        "yaxis3": {
         "anchor": "x3",
         "domain": [
          0,
          1
         ]
        }
       }
      }
     },
     "metadata": {},
     "output_type": "display_data"
    }
   ],
   "source": [
    "from plotly.subplots import make_subplots\n",
    "\n",
    "# Define the box plot traces\n",
    "box1 = go.Box(y=df['Driven_kms'], name='Driven_kms', boxpoints='outliers', jitter=0.3, pointpos=-1.8)\n",
    "box2 = go.Box(y=df['Present_Price'], name='Present_Price', boxpoints='outliers', jitter=0.3, pointpos=-1.8)\n",
    "box3 = go.Box(y=df['Selling_Price'], name='Selling_Price', boxpoints='outliers', jitter=0.3, pointpos=-1.8)\n",
    "\n",
    "# Use make_subplots to arrange them in one row, three columns\n",
    "fig = make_subplots(rows=1, cols=3, subplot_titles=['Driven_kms', 'Present_Price', 'Selling_Price'])\n",
    "\n",
    "# Add each trace to the figure in the appropriate subplot\n",
    "fig.add_trace(box1, row=1, col=1)\n",
    "fig.add_trace(box2, row=1, col=2)\n",
    "fig.add_trace(box3, row=1, col=3)\n",
    "\n",
    "# Update trace colors\n",
    "fig.update_traces(marker=dict(color='darkblue'), selector=dict(name='Driven_kms'))\n",
    "fig.update_traces(marker=dict(color='darkgreen'), selector=dict(name='Present_Price'))\n",
    "fig.update_traces(marker=dict(color='darkred'), selector=dict(name='Selling_Price'))\n",
    "\n",
    "# Customize the overall layout of the figure\n",
    "fig.update_layout(\n",
    "    title_text='<b>Box Plots of Car Data Columns</b>',  # Global title\n",
    "    showlegend=False,  # Remove the legend\n",
    "    font=dict(size=18) # Set global font size bold\n",
    ")\n",
    "\n",
    "# Display the figure\n",
    "fig.show()"
   ]
  },
  {
   "cell_type": "markdown",
   "metadata": {},
   "source": [
    "# **remove inconsistency**"
   ]
  },
  {
   "cell_type": "code",
   "execution_count": 35,
   "metadata": {},
   "outputs": [
    {
     "name": "stdout",
     "output_type": "stream",
     "text": [
      "shape of data before removing inconsistency : Rows = 299 & Columns = 9\n",
      "\n",
      "shape of data after removing inconsistency : Rows = 242 Columns = 9\n",
      "\n",
      "Successfully remove inconsistency\n"
     ]
    }
   ],
   "source": [
    "# Check the shape of the data before removing inconsistency \n",
    "print(f'shape of data before removing inconsistency : Rows = {df.shape[0]} & Columns = {df.shape[1]}\\n')\n",
    "\n",
    "# List of bike-related keywords to identify bike rows\n",
    "bike_keywords = ['Royal Enfield', 'KTM', 'Hero', 'Yamaha', 'TVS', 'Hyosung', 'UM'] # Remove these bike rows\n",
    "\n",
    "# Filter out rows where Car_Name contains any of the bike keywords\n",
    "df = df[~df['Car_Name'].str.contains('|'.join(bike_keywords), case=False, na=False)]\n",
    "\n",
    "# i will remove the rows that shows imbalancing in my data \n",
    "df = df[~((df['Owner'] == 3) | (df['Year'] == 2018) | (df['Car_Name'] == '800'))]\n",
    "\n",
    "# Check the shape of the data after removing inconsistency \n",
    "print(f'shape of data after removing inconsistency : Rows = {df.shape[0]} Columns = {df.shape[1]}\\n')\n",
    "\n",
    "# Display message\n",
    "print('Successfully remove inconsistency')"
   ]
  },
  {
   "cell_type": "markdown",
   "metadata": {},
   "source": [
    "<div style=\"background: linear-gradient(45deg, #27ae60, #2ecc71); padding: 20px 30px; border-radius: 12px; text-align: center; margin-top: 20px;\">\n",
    "  <h2 style=\"color: white; font-family: 'Arial', sans-serif; font-size: 28px; font-weight: 700; text-transform: capitalize; letter-spacing: 1.5px; text-shadow: 3px 3px 6px rgba(0, 0, 0, 0.3);\">\n",
    "    🎉 Congratulations! We Have Successfully Cleaned the Data. <br> \n",
    "    Now, Let's Proceed to the Feature Engineering Section Together ⚙️\n",
    "  </h2>\n",
    "</div>\n"
   ]
  },
  {
   "cell_type": "markdown",
   "metadata": {},
   "source": [
    "---"
   ]
  },
  {
   "cell_type": "markdown",
   "metadata": {},
   "source": [
    "<div id=\"feature-engineering\" style=\"background: linear-gradient(45deg, #f39c12, #f1c40f); padding: 20px 30px; border-radius: 12px; text-align: center; margin-top: 20px;\">\n",
    "  <h2 style=\"color: white; font-family: 'Verdana', sans-serif; font-size: 32px; font-weight: 600; text-transform: capitalize; letter-spacing: 1.5px; text-shadow: 3px 3px 6px rgba(0, 0, 0, 0.4);\">\n",
    "    🧠 <span style=\"border-bottom: 4px solid #fff; padding-bottom: 5px;\">Feature Engineering</span>\n",
    "  </h2>\n",
    "</div>\n"
   ]
  },
  {
   "cell_type": "markdown",
   "metadata": {},
   "source": [
    "# **Create New Features**"
   ]
  },
  {
   "cell_type": "code",
   "execution_count": 36,
   "metadata": {},
   "outputs": [
    {
     "name": "stdout",
     "output_type": "stream",
     "text": [
      "Feature Engineering completed successfully\n"
     ]
    }
   ],
   "source": [
    "# Calculate Age of the Car\n",
    "current_year = 2025\n",
    "df['Age_of_car'] = current_year - df['Year']\n",
    "\n",
    "# Compute Car Depreciation\n",
    "df['Car_depreciation'] = (df['Present_Price'] - df['Selling_Price']).round(3)\n",
    "\n",
    "# Depreciation Per Year\n",
    "df['Depreciation_per_year'] = (df['Car_depreciation'] / df['Age_of_car']).round(3)\n",
    "\n",
    "# Determine Depreciation Rate\n",
    "df['Depreciation_rate'] = ((df['Present_Price'] - df['Selling_Price']) / df['Present_Price']).round(3)\n",
    "df['Depreciation_rate'].fillna(0, inplace=True)  # Handle division by zero\n",
    "\n",
    "# Extract Car Brand from Car_Name\n",
    "df['Brand'] = df['Car_Name'].str.split().str[0]\n",
    "\n",
    "# Create Car Age Category\n",
    "df['Car_Condition'] = pd.cut(df['Age_of_car'],\n",
    "                          bins=[0, 3, 8, 15, 23],\n",
    "                          labels=['new', 'young', 'old', 'very old'])\n",
    "\n",
    "# Create Mileage Category\n",
    "df['Car_Mileage'] = pd.cut(df['Driven_kms'],\n",
    "                              bins=[500, 100000, 300000, 500000],\n",
    "                              labels=['low', 'medium', 'high'])\n",
    "\n",
    "print('Feature Engineering completed successfully')"
   ]
  },
  {
   "cell_type": "markdown",
   "metadata": {},
   "source": [
    "# **Type Conversion**"
   ]
  },
  {
   "cell_type": "code",
   "execution_count": 37,
   "metadata": {},
   "outputs": [
    {
     "name": "stdout",
     "output_type": "stream",
     "text": [
      "Data types after conversion : \n",
      "\n",
      "Car_Name                 category\n",
      "Year                        int64\n",
      "Selling_Price             float64\n",
      "Present_Price             float64\n",
      "Driven_kms                  int64\n",
      "Fuel_Type                category\n",
      "Selling_type             category\n",
      "Transmission             category\n",
      "Owner                       int64\n",
      "Age_of_car                  int64\n",
      "Car_depreciation          float64\n",
      "Depreciation_per_year     float64\n",
      "Depreciation_rate         float64\n",
      "Brand                    category\n",
      "Car_Condition            category\n",
      "Car_Mileage              category\n",
      "dtype: object\n"
     ]
    }
   ],
   "source": [
    "# Convert object type columns to category type\n",
    "categorical_columns = ['Brand', 'Car_Name', 'Fuel_Type', 'Selling_type', 'Transmission']\n",
    "df[categorical_columns] = df[categorical_columns].astype('category')\n",
    "\n",
    "# Display the data types of the updated dataset\n",
    "print(\"Data types after conversion : \\n\")\n",
    "print(df.dtypes)"
   ]
  },
  {
   "cell_type": "markdown",
   "metadata": {},
   "source": [
    "<div style=\"background: linear-gradient(45deg, #8e44ad, #9b59b6); padding: 20px 30px; border-radius: 12px; text-align: center; margin-top: 20px;\">\n",
    "  <h2 style=\"color: white; font-family: 'Arial', sans-serif; font-size: 28px; font-weight: 700; text-transform: capitalize; letter-spacing: 1.5px; text-shadow: 3px 3px 6px rgba(0, 0, 0, 0.3);\">\n",
    "    🎉 Congratulations! We Have Successfully Created New Features Based on the Data.\n",
    "    Now, Let's Proceed to the Data Preprocessing Section Together ⚙️\n",
    "  </h2>\n",
    "</div>\n"
   ]
  },
  {
   "cell_type": "markdown",
   "metadata": {},
   "source": [
    "---"
   ]
  },
  {
   "cell_type": "markdown",
   "metadata": {},
   "source": [
    "<div id=\"my-objective\" style=\"background: linear-gradient(45deg, #2980b9, #8e44ad); padding: 20px; border-radius: 12px; text-align: center; margin-top: 20px; max-width: 90%; margin-left: auto; margin-right: auto;\">\n",
    "  <h2 style=\"color: white; font-family: 'Arial', sans-serif; font-size: 28px; font-weight: 700; text-transform: capitalize; letter-spacing: 1.5px; text-shadow: 3px 3px 6px rgba(0, 0, 0, 0.3);\">\n",
    "    🎯 Objective: Car Price Prediction Model\n",
    "  </h2>\n",
    "  <p style=\"color: white; font-family: 'Verdana', sans-serif; font-size: 18px; line-height: 1.6; margin-top: 20px; padding: 0 10px;\">\n",
    "    The primary goal of this project is to train a machine learning model capable of accurately predicting car prices based on various features. Although I am not performing univariate, bivariate, or multivariate analysis at this stage, the focus will be on preparing the data for model training. Now, let's move forward with the data preprocessing phase to get the data ready for the machine learning model.\n",
    "  </p>\n",
    "</div>\n"
   ]
  },
  {
   "cell_type": "markdown",
   "metadata": {},
   "source": [
    "---"
   ]
  },
  {
   "cell_type": "markdown",
   "metadata": {},
   "source": [
    "<div id=\"data-preprocessing\" style=\"background: linear-gradient(45deg, #2c3e50, #34495e); padding: 20px 30px; border-radius: 12px; text-align: center; margin-top: 20px;\">\n",
    "  <h2 style=\"color: white; font-family: 'Arial', sans-serif; font-size: 32px; font-weight: 700; text-transform: uppercase; letter-spacing: 1px; text-shadow: 3px 3px 5px rgba(0, 0, 0, 0.3);\">\n",
    "    ⚙️ <span style=\"border-bottom: 4px solid #fff; padding-bottom: 5px;\">Data Preprocessing</span>\n",
    "  </h2>\n",
    "</div>\n"
   ]
  },
  {
   "cell_type": "markdown",
   "metadata": {},
   "source": [
    "# **Distribution of target variable**"
   ]
  },
  {
   "cell_type": "code",
   "execution_count": 38,
   "metadata": {},
   "outputs": [
    {
     "name": "stdout",
     "output_type": "stream",
     "text": [
      "Skewness of Selling_Price: 2.4389193616177165\n"
     ]
    },
    {
     "data": {
      "image/png": "[encoded data removed]",
      "text/plain": [
       "<Figure size 640x480 with 1 Axes>"
      ]
     },
     "metadata": {},
     "output_type": "display_data"
    }
   ],
   "source": [
    "# Calculate skewness\n",
    "skewness = df['Selling_Price'].skew()\n",
    "print(f'Skewness of Selling_Price: {skewness}')\n",
    "\n",
    "# Plot the distribution of Selling_Price\n",
    "sns.histplot(df['Selling_Price'], kde=True)\n",
    "plt.title('Distribution of Selling_Price')\n",
    "plt.show()"
   ]
  },
  {
   "cell_type": "markdown",
   "metadata": {},
   "source": [
    "# **Why Skewness is a Problem:**\n",
    "- If the target variable is highly skewed, it can affect the performance of regression models, especially linear models, which assume that the target variable is normally distributed.\n",
    "\n",
    "- Skewness can lead to biased predictions and poor model performance\n",
    "\n",
    "# **Interpreting Skewness:**\n",
    "\n",
    "- If the skewness is between -0.5 and 0.5, the distribution is approximately symmetric.\n",
    "\n",
    "- If the skewness is > 0.5, the distribution is positively skewed (right-tailed).\n",
    "\n",
    "- If the skewness is < -0.5, the distribution is negatively skewed (left-tailed)\n",
    "\n",
    "# **How to Handle Skewness:**\n",
    "- If the target variable is highly skewed, you can apply a transformation to make it more normally distributed. Common transformations include:\n",
    "\n",
    "    - Log Transformation: np.log1p(Selling_Price)\n",
    "    - Square Root Transformation: np.sqrt(Selling_Price)\n",
    "    - Box-Cox Transformation: scipy.stats.boxcox(Selling_Price)"
   ]
  },
  {
   "cell_type": "code",
   "execution_count": 39,
   "metadata": {},
   "outputs": [
    {
     "name": "stdout",
     "output_type": "stream",
     "text": [
      "Skewness of Selling_Price: 0.5968308145210136\n"
     ]
    },
    {
     "data": {
      "image/png": "[encoded data removed]",
      "text/plain": [
       "<Figure size 640x480 with 1 Axes>"
      ]
     },
     "metadata": {},
     "output_type": "display_data"
    }
   ],
   "source": [
    "# Apply square root transformation to Selling_Price\n",
    "df['Selling_Price'] = np.sqrt(df['Selling_Price'])\n",
    "\n",
    "# Calculate skewness\n",
    "skewness = df['Selling_Price'].skew()\n",
    "print(f'Skewness of Selling_Price: {skewness}')\n",
    "\n",
    "# Plot the transformed distribution\n",
    "sns.histplot(df['Selling_Price'], kde=True)\n",
    "plt.title('Distribution of Log-Transformed Selling_Price')\n",
    "plt.show()"
   ]
  },
  {
   "cell_type": "markdown",
   "metadata": {},
   "source": [
    "# **Correlation**"
   ]
  },
  {
   "cell_type": "code",
   "execution_count": 40,
   "metadata": {},
   "outputs": [
    {
     "name": "stdout",
     "output_type": "stream",
     "text": [
      "\n",
      "Correlation Matrix:\n"
     ]
    },
    {
     "data": {
      "text/html": [
       "<div>\n",
       "<style scoped>\n",
       "    .dataframe tbody tr th:only-of-type {\n",
       "        vertical-align: middle;\n",
       "    }\n",
       "\n",
       "    .dataframe tbody tr th {\n",
       "        vertical-align: top;\n",
       "    }\n",
       "\n",
       "    .dataframe thead th {\n",
       "        text-align: right;\n",
       "    }\n",
       "</style>\n",
       "<table border=\"1\" class=\"dataframe\">\n",
       "  <thead>\n",
       "    <tr style=\"text-align: right;\">\n",
       "      <th></th>\n",
       "      <th>Year</th>\n",
       "      <th>Selling_Price</th>\n",
       "      <th>Present_Price</th>\n",
       "      <th>Driven_kms</th>\n",
       "      <th>Owner</th>\n",
       "      <th>Age_of_car</th>\n",
       "      <th>Car_depreciation</th>\n",
       "      <th>Depreciation_per_year</th>\n",
       "      <th>Depreciation_rate</th>\n",
       "    </tr>\n",
       "  </thead>\n",
       "  <tbody>\n",
       "    <tr>\n",
       "      <th>Year</th>\n",
       "      <td>1.000000</td>\n",
       "      <td>0.315371</td>\n",
       "      <td>-0.037999</td>\n",
       "      <td>-0.511267</td>\n",
       "      <td>-0.080186</td>\n",
       "      <td>-1.000000</td>\n",
       "      <td>-0.346926</td>\n",
       "      <td>-0.219465</td>\n",
       "      <td>-0.857425</td>\n",
       "    </tr>\n",
       "    <tr>\n",
       "      <th>Selling_Price</th>\n",
       "      <td>0.315371</td>\n",
       "      <td>1.000000</td>\n",
       "      <td>0.807972</td>\n",
       "      <td>-0.041442</td>\n",
       "      <td>-0.124517</td>\n",
       "      <td>-0.315371</td>\n",
       "      <td>0.451188</td>\n",
       "      <td>0.562089</td>\n",
       "      <td>-0.334233</td>\n",
       "    </tr>\n",
       "    <tr>\n",
       "      <th>Present_Price</th>\n",
       "      <td>-0.037999</td>\n",
       "      <td>0.807972</td>\n",
       "      <td>1.000000</td>\n",
       "      <td>0.150506</td>\n",
       "      <td>-0.095102</td>\n",
       "      <td>0.037999</td>\n",
       "      <td>0.864228</td>\n",
       "      <td>0.912086</td>\n",
       "      <td>0.084108</td>\n",
       "    </tr>\n",
       "    <tr>\n",
       "      <th>Driven_kms</th>\n",
       "      <td>-0.511267</td>\n",
       "      <td>-0.041442</td>\n",
       "      <td>0.150506</td>\n",
       "      <td>1.000000</td>\n",
       "      <td>-0.033499</td>\n",
       "      <td>0.511267</td>\n",
       "      <td>0.286928</td>\n",
       "      <td>0.244659</td>\n",
       "      <td>0.488203</td>\n",
       "    </tr>\n",
       "    <tr>\n",
       "      <th>Owner</th>\n",
       "      <td>-0.080186</td>\n",
       "      <td>-0.124517</td>\n",
       "      <td>-0.095102</td>\n",
       "      <td>-0.033499</td>\n",
       "      <td>1.000000</td>\n",
       "      <td>0.080186</td>\n",
       "      <td>-0.067642</td>\n",
       "      <td>-0.077802</td>\n",
       "      <td>0.095614</td>\n",
       "    </tr>\n",
       "    <tr>\n",
       "      <th>Age_of_car</th>\n",
       "      <td>-1.000000</td>\n",
       "      <td>-0.315371</td>\n",
       "      <td>0.037999</td>\n",
       "      <td>0.511267</td>\n",
       "      <td>0.080186</td>\n",
       "      <td>1.000000</td>\n",
       "      <td>0.346926</td>\n",
       "      <td>0.219465</td>\n",
       "      <td>0.857425</td>\n",
       "    </tr>\n",
       "    <tr>\n",
       "      <th>Car_depreciation</th>\n",
       "      <td>-0.346926</td>\n",
       "      <td>0.451188</td>\n",
       "      <td>0.864228</td>\n",
       "      <td>0.286928</td>\n",
       "      <td>-0.067642</td>\n",
       "      <td>0.346926</td>\n",
       "      <td>1.000000</td>\n",
       "      <td>0.977052</td>\n",
       "      <td>0.438537</td>\n",
       "    </tr>\n",
       "    <tr>\n",
       "      <th>Depreciation_per_year</th>\n",
       "      <td>-0.219465</td>\n",
       "      <td>0.562089</td>\n",
       "      <td>0.912086</td>\n",
       "      <td>0.244659</td>\n",
       "      <td>-0.077802</td>\n",
       "      <td>0.219465</td>\n",
       "      <td>0.977052</td>\n",
       "      <td>1.000000</td>\n",
       "      <td>0.358737</td>\n",
       "    </tr>\n",
       "    <tr>\n",
       "      <th>Depreciation_rate</th>\n",
       "      <td>-0.857425</td>\n",
       "      <td>-0.334233</td>\n",
       "      <td>0.084108</td>\n",
       "      <td>0.488203</td>\n",
       "      <td>0.095614</td>\n",
       "      <td>0.857425</td>\n",
       "      <td>0.438537</td>\n",
       "      <td>0.358737</td>\n",
       "      <td>1.000000</td>\n",
       "    </tr>\n",
       "  </tbody>\n",
       "</table>\n",
       "</div>"
      ],
      "text/plain": [
       "                           Year  Selling_Price  Present_Price  Driven_kms  \\\n",
       "Year                   1.000000       0.315371      -0.037999   -0.511267   \n",
       "Selling_Price          0.315371       1.000000       0.807972   -0.041442   \n",
       "Present_Price         -0.037999       0.807972       1.000000    0.150506   \n",
       "Driven_kms            -0.511267      -0.041442       0.150506    1.000000   \n",
       "Owner                 -0.080186      -0.124517      -0.095102   -0.033499   \n",
       "Age_of_car            -1.000000      -0.315371       0.037999    0.511267   \n",
       "Car_depreciation      -0.346926       0.451188       0.864228    0.286928   \n",
       "Depreciation_per_year -0.219465       0.562089       0.912086    0.244659   \n",
       "Depreciation_rate     -0.857425      -0.334233       0.084108    0.488203   \n",
       "\n",
       "                          Owner  Age_of_car  Car_depreciation  \\\n",
       "Year                  -0.080186   -1.000000         -0.346926   \n",
       "Selling_Price         -0.124517   -0.315371          0.451188   \n",
       "Present_Price         -0.095102    0.037999          0.864228   \n",
       "Driven_kms            -0.033499    0.511267          0.286928   \n",
       "Owner                  1.000000    0.080186         -0.067642   \n",
       "Age_of_car             0.080186    1.000000          0.346926   \n",
       "Car_depreciation      -0.067642    0.346926          1.000000   \n",
       "Depreciation_per_year -0.077802    0.219465          0.977052   \n",
       "Depreciation_rate      0.095614    0.857425          0.438537   \n",
       "\n",
       "                       Depreciation_per_year  Depreciation_rate  \n",
       "Year                               -0.219465          -0.857425  \n",
       "Selling_Price                       0.562089          -0.334233  \n",
       "Present_Price                       0.912086           0.084108  \n",
       "Driven_kms                          0.244659           0.488203  \n",
       "Owner                              -0.077802           0.095614  \n",
       "Age_of_car                          0.219465           0.857425  \n",
       "Car_depreciation                    0.977052           0.438537  \n",
       "Depreciation_per_year               1.000000           0.358737  \n",
       "Depreciation_rate                   0.358737           1.000000  "
      ]
     },
     "execution_count": 40,
     "metadata": {},
     "output_type": "execute_result"
    }
   ],
   "source": [
    "# Select only numerical features\n",
    "numerical_features = df.select_dtypes(include=[\"number\"])\n",
    "\n",
    "# Calculate the correlation matrix for numerical features\n",
    "correlation_matrix = numerical_features.corr()\n",
    "\n",
    "# Display the correlation matrix\n",
    "print(\"\\nCorrelation Matrix:\")\n",
    "correlation_matrix\n"
   ]
  },
  {
   "cell_type": "code",
   "execution_count": 41,
   "metadata": {},
   "outputs": [
    {
     "data": {
      "image/png": "[encoded data removed]",
      "text/plain": [
       "<Figure size 1000x800 with 2 Axes>"
      ]
     },
     "metadata": {},
     "output_type": "display_data"
    }
   ],
   "source": [
    "# Visualize the correlation matrix using a heatmap\n",
    "plt.figure(figsize=(10, 8))\n",
    "sns.heatmap(correlation_matrix, annot=True, cmap='Set1', fmt='.2f')\n",
    "plt.title(\"Correlation Matrix\")\n",
    "plt.show()"
   ]
  },
  {
   "cell_type": "code",
   "execution_count": 42,
   "metadata": {},
   "outputs": [
    {
     "name": "stdout",
     "output_type": "stream",
     "text": [
      "Successfully Droped the Column\n"
     ]
    }
   ],
   "source": [
    "# Drop unnecessary columns\n",
    "df = df.drop(columns=['Car_Name'])\n",
    "\n",
    "print(\"Successfully Droped the Column\")"
   ]
  },
  {
   "cell_type": "markdown",
   "metadata": {},
   "source": [
    "<div id=\"build-ml-model\" style=\"background: linear-gradient(45deg, #1abc9c, #16a085); padding: 20px 30px; border-radius: 12px; text-align: center; margin-top: 20px;\">\n",
    "  <h2 style=\"color: white; font-family: 'Helvetica', sans-serif; font-size: 32px; font-weight: 700; text-transform: capitalize; letter-spacing: 1.5px; text-shadow: 3px 3px 5px rgba(0, 0, 0, 0.3);\">\n",
    "    🤖 <span style=\"border-bottom: 4px solid #fff; padding-bottom: 5px;\">Build ML Model</span>\n",
    "  </h2>\n",
    "</div>\n"
   ]
  },
  {
   "cell_type": "code",
   "execution_count": 43,
   "metadata": {},
   "outputs": [
    {
     "name": "stdout",
     "output_type": "stream",
     "text": [
      "Linear Regression:\n",
      "  Best Parameters: {}\n",
      "  MSE: 0.018208638233381355\n",
      "  MAE: 0.09132994275967475\n",
      "  R2 Score: 0.9833404904962773\n",
      "\n",
      "Ridge Regression:\n",
      "  Best Parameters: {'regressor__alpha': 0.01}\n",
      "  MSE: 0.019194946324001743\n",
      "  MAE: 0.09642897683056066\n",
      "  R2 Score: 0.982438094128208\n",
      "\n",
      "Lasso Regression:\n",
      "  Best Parameters: {'regressor__alpha': 0.01}\n",
      "  MSE: 0.2071147593653985\n",
      "  MAE: 0.23861525610931825\n",
      "  R2 Score: 0.8105058567376262\n",
      "\n",
      "Decision Tree:\n",
      "  Best Parameters: {'regressor__max_depth': None, 'regressor__min_samples_split': 2}\n",
      "  MSE: 0.0684106782011799\n",
      "  MAE: 0.14656330492931896\n",
      "  R2 Score: 0.9374094685697408\n",
      "\n",
      "Random Forest:\n",
      "  Best Parameters: {'regressor__max_depth': 20, 'regressor__min_samples_split': 2, 'regressor__n_estimators': 100}\n",
      "  MSE: 0.10799702695716058\n",
      "  MAE: 0.13044986215737048\n",
      "  R2 Score: 0.9011909911160606\n",
      "\n",
      "Gradient Boosting:\n",
      "  Best Parameters: {'regressor__learning_rate': 0.1, 'regressor__max_depth': 3, 'regressor__n_estimators': 200}\n",
      "  MSE: 0.15009430057041717\n",
      "  MAE: 0.14111649264751963\n",
      "  R2 Score: 0.8626752097131902\n",
      "\n",
      "SVR:\n",
      "  Best Parameters: {'regressor__C': 10.0, 'regressor__gamma': 'scale', 'regressor__kernel': 'linear'}\n",
      "  MSE: 0.02006226969823896\n",
      "  MAE: 0.105318705261773\n",
      "  R2 Score: 0.9816445596633728\n",
      "\n",
      "KNN:\n",
      "  Best Parameters: {'regressor__n_neighbors': 5, 'regressor__weights': 'uniform'}\n",
      "  MSE: 0.25073112011657783\n",
      "  MAE: 0.29671736524021486\n",
      "  R2 Score: 0.7706002269404474\n",
      "\n",
      "XGBoost:\n",
      "  Best Parameters: {'regressor__learning_rate': 0.2, 'regressor__max_depth': 3, 'regressor__n_estimators': 200}\n",
      "  MSE: 0.10148534251348196\n",
      "  MAE: 0.13323909114957405\n",
      "  R2 Score: 0.9071486836949505\n",
      "\n",
      "Model Performance (Sorted by R2 Score):\n",
      "               Model                                    Best Parameters  \\\n",
      "0  Linear Regression                                                 {}   \n",
      "1   Ridge Regression                         {'regressor__alpha': 0.01}   \n",
      "6                SVR  {'regressor__C': 10.0, 'regressor__gamma': 'sc...   \n",
      "3      Decision Tree  {'regressor__max_depth': None, 'regressor__min...   \n",
      "8            XGBoost  {'regressor__learning_rate': 0.2, 'regressor__...   \n",
      "4      Random Forest  {'regressor__max_depth': 20, 'regressor__min_s...   \n",
      "5  Gradient Boosting  {'regressor__learning_rate': 0.1, 'regressor__...   \n",
      "2   Lasso Regression                         {'regressor__alpha': 0.01}   \n",
      "7                KNN  {'regressor__n_neighbors': 5, 'regressor__weig...   \n",
      "\n",
      "        MSE       MAE  R2 Score  \n",
      "0  0.018209  0.091330  0.983340  \n",
      "1  0.019195  0.096429  0.982438  \n",
      "6  0.020062  0.105319  0.981645  \n",
      "3  0.068411  0.146563  0.937409  \n",
      "8  0.101485  0.133239  0.907149  \n",
      "4  0.107997  0.130450  0.901191  \n",
      "5  0.150094  0.141116  0.862675  \n",
      "2  0.207115  0.238615  0.810506  \n",
      "7  0.250731  0.296717  0.770600  \n",
      "\n",
      "Best Model:\n",
      "  Model: Linear Regression\n",
      "  Best Parameters: {}\n",
      "  MSE: 0.018208638233381355\n",
      "  MAE: 0.09132994275967475\n",
      "  R2 Score: 0.9833404904962773\n"
     ]
    }
   ],
   "source": [
    "# Separate features (X) and target (y)\n",
    "X = df.drop(columns=['Selling_Price'])\n",
    "y = df['Selling_Price']\n",
    "\n",
    "# Split the data into training and testing sets\n",
    "X_train, X_test, y_train, y_test = train_test_split(X, y, test_size=0.2, random_state=42)\n",
    "\n",
    "# Define categorical and numerical columns\n",
    "categorical_cols = ['Fuel_Type', 'Selling_type', 'Transmission', 'Brand', 'Car_Condition', 'Car_Mileage']\n",
    "numerical_cols = ['Present_Price', 'Driven_kms', 'Age_of_car', 'Car_depreciation']\n",
    "\n",
    "# Preprocessing pipeline\n",
    "# Numerical columns: MinMax Scaling\n",
    "# Categorical columns: OneHot Encoding\n",
    "preprocessor = ColumnTransformer(\n",
    "    transformers=[\n",
    "        ('num', MinMaxScaler(), numerical_cols),\n",
    "        ('cat', OneHotEncoder(handle_unknown='ignore'), categorical_cols)\n",
    "    ])\n",
    "\n",
    "# Define a list of regression models to compare with additional hyperparameters\n",
    "models = [\n",
    "    ('Linear Regression', LinearRegression(), {}),\n",
    "    ('Ridge Regression', Ridge(), {'regressor__alpha': [0.01, 0.1, 1.0, 10.0, 100.0]}),\n",
    "    ('Lasso Regression', Lasso(), {'regressor__alpha': [0.01, 0.1, 1.0, 10.0, 100.0]}),\n",
    "    ('Decision Tree', DecisionTreeRegressor(), {'regressor__max_depth': [None, 10, 20, 30], 'regressor__min_samples_split': [2, 5, 10]}),\n",
    "    ('Random Forest', RandomForestRegressor(), {'regressor__n_estimators': [50, 100, 200], 'regressor__max_depth': [None, 10, 20], 'regressor__min_samples_split': [2, 5, 10]}),\n",
    "    ('Gradient Boosting', GradientBoostingRegressor(), {'regressor__n_estimators': [50, 100, 200], 'regressor__learning_rate': [0.01, 0.1, 0.2], 'regressor__max_depth': [3, 5, 10]}),\n",
    "    ('SVR', SVR(), {'regressor__C': [0.1, 1.0, 10.0], 'regressor__kernel': ['linear', 'rbf'], 'regressor__gamma': ['scale', 'auto']}),\n",
    "    ('KNN', KNeighborsRegressor(), {'regressor__n_neighbors': [3, 5, 7, 9], 'regressor__weights': ['uniform', 'distance']}),\n",
    "    ('XGBoost', XGBRegressor(), {'regressor__n_estimators': [50, 100, 200], 'regressor__learning_rate': [0.01, 0.1, 0.2], 'regressor__max_depth': [3, 5, 10]})\n",
    "]\n",
    "\n",
    "# Initialize a list to store model performance\n",
    "results = []\n",
    "\n",
    "# Loop through each model, train, and evaluate\n",
    "for name, model, params in models:\n",
    "    # Create a pipeline with preprocessor and model\n",
    "    pipeline = Pipeline(steps=[\n",
    "        ('preprocessor', preprocessor),\n",
    "        ('regressor', model)\n",
    "    ])\n",
    "    \n",
    "    # Use GridSearchCV for hyperparameter tuning\n",
    "    grid_search = GridSearchCV(pipeline, param_grid=params, cv=5, scoring='neg_mean_squared_error')\n",
    "    grid_search.fit(X_train, y_train)\n",
    "    \n",
    "    # Evaluate the model\n",
    "    y_pred = grid_search.predict(X_test)\n",
    "    mse = mean_squared_error(y_test, y_pred)\n",
    "    mae = mean_absolute_error(y_test, y_pred)\n",
    "    r2 = r2_score(y_test, y_pred)\n",
    "    \n",
    "    # Store the results\n",
    "    results.append({\n",
    "        'Model': name,\n",
    "        'Best Parameters': grid_search.best_params_,\n",
    "        'MSE': mse,\n",
    "        'MAE': mae,\n",
    "        'R2 Score': r2\n",
    "    })\n",
    "    \n",
    "    print(f\"{name}:\")\n",
    "    print(f\"  Best Parameters: {grid_search.best_params_}\")\n",
    "    print(f\"  MSE: {mse}\")\n",
    "    print(f\"  MAE: {mae}\")\n",
    "    print(f\"  R2 Score: {r2}\")\n",
    "    print()\n",
    "\n",
    "# Convert results to a DataFrame and sort by R2 Score in descending order\n",
    "results_df = pd.DataFrame(results)\n",
    "results_df = results_df.sort_values(by='R2 Score', ascending=False)\n",
    "\n",
    "# Print the sorted results\n",
    "print(\"Model Performance (Sorted by R2 Score):\")\n",
    "print(results_df)\n",
    "\n",
    "# Print the best model\n",
    "best_model_result = results_df.iloc[0]\n",
    "print(\"\\nBest Model:\")\n",
    "print(f\"  Model: {best_model_result['Model']}\")\n",
    "print(f\"  Best Parameters: {best_model_result['Best Parameters']}\")\n",
    "print(f\"  MSE: {best_model_result['MSE']}\")\n",
    "print(f\"  MAE: {best_model_result['MAE']}\")\n",
    "print(f\"  R2 Score: {best_model_result['R2 Score']}\")"
   ]
  },
  {
   "cell_type": "markdown",
   "metadata": {},
   "source": [
    "<div id=\"dump-model\" style=\"background: linear-gradient(45deg, #3498db, #8e44ad, black, blue); padding: 20px; border-radius: 12px; text-align: center; color: white; box-shadow: 0 4px 8px rgba(0, 0, 0, 0.2); margin-top: 20px;\">\n",
    "  <h1 style=\"font-family: 'Arial', sans-serif; font-size: 36px; font-weight: bold; letter-spacing: 1.5px; text-shadow: 2px 2px 5px rgba(0, 0, 0, 0.3);\">\n",
    "    <span style=\"margin-right: 10px; font-size: 40px; vertical-align: middle;\">💾</span> \n",
    "    Dump a Model & load it for prediction\n",
    "  </h1>\n",
    "  <p style=\"font-family: 'Verdana', sans-serif; font-size: 18px; line-height: 1.6; margin: 15px auto; max-width: 80%;\">\n",
    "    Save your machine learning model for future use with techniques like <strong>joblib</strong> or <strong>pickle</strong>. \n",
    "    Preserve your work efficiently and load it whenever needed.\n",
    "  </p>\n",
    "  <div style=\"margin-top: 20px;\">\n",
    "    <a href=\"https://joblib.readthedocs.io/en/stable/\" style=\"text-decoration: none; background: #2ecc71; padding: 12px 20px; color: white; font-size: 18px; font-weight: bold; border-radius: 8px; box-shadow: 0 4px 8px rgba(0, 0, 0, 0.2); transition: 0.3s; display: inline-block;\">\n",
    "      Learn Joblib\n",
    "    </a>\n",
    "    <a href=\"https://docs.python.org/3/library/pickle.html\" style=\"text-decoration: none; background: #e74c3c; padding: 12px 20px; color: white; font-size: 18px; font-weight: bold; border-radius: 8px; margin-left: 10px; box-shadow: 0 4px 8px rgba(0, 0, 0, 0.2); transition: 0.3s; display: inline-block;\">\n",
    "      Learn Pickle\n",
    "    </a>\n",
    "  </div>\n",
    "</div>\n"
   ]
  },
  {
   "cell_type": "code",
   "execution_count": 44,
   "metadata": {},
   "outputs": [
    {
     "name": "stdout",
     "output_type": "stream",
     "text": [
      "Loaded Model Evaluation:\n",
      "  MSE: 0.018208638233381355\n",
      "  MAE: 0.09132994275967475\n",
      "  R2 Score: 0.9833404904962773\n"
     ]
    }
   ],
   "source": [
    "# Extract the best model from the results DataFrame\n",
    "best_model_name = results_df.iloc[0]['Model']\n",
    "best_model_params = results_df.iloc[0]['Best Parameters']\n",
    "\n",
    "# Find the corresponding model object\n",
    "best_model = None\n",
    "for name, model, params in models:\n",
    "    if name == best_model_name:\n",
    "        best_model = model\n",
    "        break\n",
    "\n",
    "# Create a pipeline with the preprocessor and the best model\n",
    "best_model_pipeline = Pipeline(steps=[\n",
    "    ('preprocessor', preprocessor),\n",
    "    ('regressor', best_model)\n",
    "])\n",
    "\n",
    "# Set the best parameters to the model\n",
    "best_model_pipeline.set_params(**best_model_params)\n",
    "\n",
    "# Fit the best model pipeline\n",
    "best_model_pipeline.fit(X_train, y_train)\n",
    "\n",
    "# Save the best model to a pickle file\n",
    "with open('best_model.pkl', 'wb') as file:\n",
    "    pickle.dump(best_model_pipeline, file)\n",
    "\n",
    "# Load the model from the pickle file\n",
    "with open('best_model.pkl', 'rb') as file:\n",
    "    loaded_model = pickle.load(file)\n",
    "\n",
    "# Make predictions using the loaded model\n",
    "loaded_model_predictions = loaded_model.predict(X_test)\n",
    "\n",
    "# Evaluate the loaded model\n",
    "loaded_model_mse = mean_squared_error(y_test, loaded_model_predictions)\n",
    "loaded_model_mae = mean_absolute_error(y_test, loaded_model_predictions)\n",
    "loaded_model_r2 = r2_score(y_test, loaded_model_predictions)\n",
    "\n",
    "print(f\"Loaded Model Evaluation:\")\n",
    "print(f\"  MSE: {loaded_model_mse}\")\n",
    "print(f\"  MAE: {loaded_model_mae}\")\n",
    "print(f\"  R2 Score: {loaded_model_r2}\")"
   ]
  },
  {
   "cell_type": "markdown",
   "metadata": {},
   "source": [
    "<div style=\"background: linear-gradient(to right, #000000, black); padding: 20px; border-radius: 15px; text-align: center; font-family: 'Segoe UI', Tahoma, Geneva, Verdana, sans-serif; color: yellow; box-shadow: 0px 4px 10px rgba(0,0,0,0.5);\">\n",
    "    <h2 style=\"margin: 0; font-size: 32px; text-shadow: 2px 2px 5px rgba(255, 255, 0, 0.8); color: #FFD700;\">\n",
    "        Thank You for Reviewing\n",
    "    </h2>\n",
    "    <p style=\"font-size: 20px; margin-top: 15px; line-height: 1.6;\">Thank you for following along with this notebook. If you have any questions, feedback, or suggestions, feel free to reach out. Happy coding! 🚀\n",
    "<p style=\"font-size: 18px; margin-top: 20px;\">\n",
    "        <strong style=\"color:white;\">Author:</strong> <a href=\"#\" style= \"text-decoration: none;\"><strong style=\"color: #FFD700;\">Yousuf Shah</strong></a></a>\n",
    "    </p>\n",
    "    <p style=\"font-size: 18px; margin-bottom: 20px;\">\n",
    "        <strong style=\"color:white\">Email:</strong> <a href=\"mailto:contact.ys09@gmail.com\" style=\"text-decoration: none;\"><strong style=\"color: #FFD700;\">contact.ys09@gmail.com</strong></a></a>\n",
    "    </p>\n",
    "    <div style=\"font-size: 18px; margin-top: 10px; color: white;\">\n",
    "        <p>\n",
    "            <a href=\"https://github.com/Yousfshah\" target=\"_blank\" style=\"color: #FFD700; text-decoration: none;\"><strong style=\"color: #FFD700;\">GitHub</strong></a>\n",
    "        </p>\n",
    "        <p>\n",
    "            <a href=\"https://www.linkedin.com/in/yousuf-shah-7ba9492b4/\" target=\"_blank\" style=\"color: #FFD700; text-decoration: none;\"> <strong style=\"color: #FFD700;\">LinkedIn</strong></a>\n",
    "        </p>\n",
    "        <p>\n",
    "            <a href=\"https://www.kaggle.com/yousufshah\" target=\"_blank\" style=\"color: #FFD700; text-decoration: none;\"><strong style=\"color: #FFD700;\">Kaggle</strong></a>\n",
    "        </p>\n",
    "    </div>\n",
    "    </div>\n",
    "</div>\n"
   ]
  }
 ],
 "metadata": {
  "kernelspec": {
   "display_name": "ML-Env",
   "language": "python",
   "name": "python3"
  },
  "language_info": {
   "codemirror_mode": {
    "name": "ipython",
    "version": 3
   },
   "file_extension": ".py",
   "mimetype": "text/x-python",
   "name": "python",
   "nbconvert_exporter": "python",
   "pygments_lexer": "ipython3",
   "version": "3.13.0"
  }
 },
 "nbformat": 4,
 "nbformat_minor": 2
}
